{
 "cells": [
  {
   "cell_type": "markdown",
   "metadata": {
    "slideshow": {
     "slide_type": "slide"
    }
   },
   "source": [
    "# A POS tagger based on deep neural network"
   ]
  },
  {
   "cell_type": "markdown",
   "metadata": {
    "slideshow": {
     "slide_type": "slide"
    }
   },
   "source": [
    "## Creating Vocabulary from the training data\n",
    "First we should read from data file. The data looks like the following\n",
    "```txt\n",
    "Two     NUM\n",
    "of      ADP\n",
    "them    PRON\n",
    "were    AUX\n",
    "being   AUX\n",
    "run     VERB\n",
    "by      ADP\n",
    "2       NUM\n",
    "officials       NOUN\n",
    "of      ADP\n",
    "the     DET\n",
    "Ministry        PROPN\n",
    "of      ADP\n",
    "the     DET\n",
    "Interior        PROPN\n",
    "!       PUNCT\n",
    "\n",
    "The     DET\n",
    "MoI     PROPN\n",
    "in      ADP\n",
    "Iraq    PROPN\n",
    "is      AUX\n",
    "equivalent      ADJ\n",
    "to      ADP\n",
    "the     DET\n",
    "US      PROPN\n",
    "FBI     PROPN\n",
    ",       PUNCT\n",
    "so      ADV\n",
    "this    PRON\n",
    "would   AUX\n",
    "be      VERB\n",
    "like    SCONJ\n",
    "having  VERB\n",
    "J.      PROPN\n",
    "Edgar   PROPN\n",
    "Hoover  PROPN\n",
    "unwittingly     ADV\n",
    "employ  VERB\n",
    "at      ADP\n",
    "a       DET\n",
    "high    ADJ\n",
    "level   NOUN\n",
    "members NOUN\n",
    "of      ADP\n",
    "the     DET\n",
    "Weathermen      PROPN\n",
    "bombers NOUN\n",
    "back    ADV\n",
    "in      ADP\n",
    "the     DET\n",
    "1960s   NOUN\n",
    ".       PUNCT\n",
    "\n",
    "\n",
    "```"
   ]
  },
  {
   "cell_type": "code",
   "execution_count": 1,
   "metadata": {
    "slideshow": {
     "slide_type": "fragment"
    }
   },
   "outputs": [],
   "source": [
    "data_path = 'data/en.pos.train'\n",
    "sentences = open(data_path, 'r').read().strip().split('\\n\\n')"
   ]
  },
  {
   "cell_type": "markdown",
   "metadata": {
    "slideshow": {
     "slide_type": "slide"
    }
   },
   "source": [
    "Then we should count the frequency of words and pos tags"
   ]
  },
  {
   "cell_type": "code",
   "execution_count": 2,
   "metadata": {
    "slideshow": {
     "slide_type": "fragment"
    }
   },
   "outputs": [],
   "source": [
    "from collections import defaultdict\n",
    "\n",
    "word_count, tags = defaultdict(int), set()\n",
    "for sentence in sentences:\n",
    "    lines = sentence.strip().split('\\n')\n",
    "    for line in lines:\n",
    "        word, tag = line.strip().split('\\t')\n",
    "        word_count[word] += 1\n",
    "        tags.add(tag)\n",
    "tags = list(tags)"
   ]
  },
  {
   "cell_type": "markdown",
   "metadata": {
    "slideshow": {
     "slide_type": "slide"
    }
   },
   "source": [
    "Now we assume that words with frequency less than one should be disregarded."
   ]
  },
  {
   "cell_type": "code",
   "execution_count": 3,
   "metadata": {
    "slideshow": {
     "slide_type": "fragment"
    }
   },
   "outputs": [],
   "source": [
    "words = [word for word in word_count.keys() if word_count[word]>1]"
   ]
  },
  {
   "cell_type": "markdown",
   "metadata": {
    "slideshow": {
     "slide_type": "slide"
    }
   },
   "source": [
    "We should also take into account special symbols start of a sentence and end of a sentence"
   ]
  },
  {
   "cell_type": "code",
   "execution_count": 4,
   "metadata": {
    "slideshow": {
     "slide_type": "fragment"
    }
   },
   "outputs": [],
   "source": [
    "words = ['<UNK>', '<s>', '</s>'] + words\n",
    "feat_tags = ['<s>'] + tags\n",
    "output_tags = tags"
   ]
  },
  {
   "cell_type": "markdown",
   "metadata": {
    "slideshow": {
     "slide_type": "slide"
    }
   },
   "source": [
    "We should also create string to integer mapping (because neural network libraries work with integers)"
   ]
  },
  {
   "cell_type": "code",
   "execution_count": 5,
   "metadata": {
    "slideshow": {
     "slide_type": "fragment"
    }
   },
   "outputs": [],
   "source": [
    "word_dict = {word: i for i, word in enumerate(words)}\n",
    "feat_tags_dict = {tag: i for i, tag in enumerate(feat_tags)}\n",
    "output_tag_dict = {tag: i for i, tag in enumerate(output_tags)}"
   ]
  },
  {
   "cell_type": "markdown",
   "metadata": {
    "slideshow": {
     "slide_type": "slide"
    }
   },
   "source": [
    "We define some auxiliary functions to access the words, tag feature and tag output"
   ]
  },
  {
   "cell_type": "code",
   "execution_count": 6,
   "metadata": {
    "slideshow": {
     "slide_type": "fragment"
    }
   },
   "outputs": [],
   "source": [
    "def tagid2tag_str(id):\n",
    "    return output_tags[id]\n",
    "\n",
    "def tag2id(tag):\n",
    "    return output_tag_dict[tag]\n",
    "\n",
    "def feat_tag2id(tag):\n",
    "    return feat_tags_dict[tag]\n",
    "\n",
    "def word2id(word):\n",
    "    return word_dict[word] if word in word_dict else word_dict['<UNK>']\n",
    "\n",
    "def num_words():\n",
    "    return len(words)\n",
    "\n",
    "def num_tag_feats():\n",
    "    return len(feat_tags)\n",
    "\n",
    "def num_tags():\n",
    "    return len(output_tags)"
   ]
  },
  {
   "cell_type": "markdown",
   "metadata": {
    "slideshow": {
     "slide_type": "slide"
    }
   },
   "source": [
    "# Converting training data to a csv-style format"
   ]
  },
  {
   "cell_type": "code",
   "execution_count": 7,
   "metadata": {
    "slideshow": {
     "slide_type": "fragment"
    }
   },
   "outputs": [],
   "source": [
    "sens = open(data_path, 'r').read().strip().split('\\n\\n')\n",
    "writer = open(data_path+'.data', 'w')\n",
    "\n",
    "for sen in sens:\n",
    "    lines = sen.strip().split('\\n')\n",
    "    ws, ts = ['<s>', '<s>'], ['<s>', '<s>']\n",
    "    for line in lines:\n",
    "        word, tag = line.strip().split()\n",
    "        ws.append(word)\n",
    "        ts.append(tag)\n",
    "    ws += ['</s>', '</s>']\n",
    "\n",
    "    for i in range(len(lines)):\n",
    "        feats = [ws[i], ws[i + 1], ws[i + 2], ws[i + 3], ws[i + 4], ts[i], ts[i + 1]]\n",
    "        label = ts[i + 2]\n",
    "        writer.write('\\t'.join(feats) + '\\t' + label + '\\n')\n",
    "writer.close()\n"
   ]
  },
  {
   "cell_type": "markdown",
   "metadata": {
    "slideshow": {
     "slide_type": "slide"
    }
   },
   "source": [
    "The output data should look like the following (__first 5 are word features, the other two are pos features, the last is the pos label__)\n",
    "```txt\n",
    "<s>     <s>     Al      -       Zaman   <s>     <s>     PROPN\n",
    "<s>     Al      -       Zaman   :       <s>     PROPN   PUNCT\n",
    "Al      -       Zaman   :       American        PROPN   PUNCT   PROPN\n",
    "-       Zaman   :       American        forces  PUNCT   PROPN   PUNCT\n",
    "Zaman   :       American        forces  killed  PROPN   PUNCT   ADJ\n",
    ":       American        forces  killed  Shaikh  PUNCT   ADJ     NOUN\n",
    "American        forces  killed  Shaikh  Abdullah        ADJ     NOUN    VERB\n",
    "forces  killed  Shaikh  Abdullah        al      NOUN    VERB    PROPN\n",
    "killed  Shaikh  Abdullah        al      -       VERB    PROPN   PROPN\n",
    "Shaikh  Abdullah        al      -       Ani     PROPN   PROPN   PROPN\n",
    "Abdullah        al      -       Ani     ,       PROPN   PROPN   PUNCT\n",
    "al      -       Ani     ,       the     PROPN   PUNCT   PROPN\n",
    "-       Ani     ,       the     preacher        PUNCT   PROPN   PUNCT\n",
    "Ani     ,       the     preacher        at      PROPN   PUNCT   DET\n",
    ",       the     preacher        at      the     PUNCT   DET     NOUN\n",
    "the     preacher        at      the     mosque  DET     NOUN    ADP\n",
    "preacher        at      the     mosque  in      NOUN    ADP     DET\n",
    "at      the     mosque  in      the     ADP     DET     NOUN\n",
    "the     mosque  in      the     town    DET     NOUN    ADP\n",
    "mosque  in      the     town    of      NOUN    ADP     DET\n",
    "in      the     town    of      Qaim    ADP     DET     NOUN\n",
    "the     town    of      Qaim    ,       DET     NOUN    ADP\n",
    "town    of      Qaim    ,       near    NOUN    ADP     PROPN\n",
    "of      Qaim    ,       near    the     ADP     PROPN   PUNCT\n",
    "Qaim    ,       near    the     Syrian  PROPN   PUNCT   ADP\n",
    ",       near    the     Syrian  border  PUNCT   ADP     DET\n",
    "near    the     Syrian  border  .       ADP     DET     ADJ\n",
    "the     Syrian  border  .       </s>    DET     ADJ     NOUN\n",
    "Syrian  border  .       </s>    </s>    ADJ     NOUN    PUNCT\n",
    "<s>     <s>     [       This    killing <s>     <s>     PUNCT\n",
    "<s>     [       This    killing of      <s>     PUNCT   DET\n",
    "[       This    killing of      a       PUNCT   DET     NOUN\n",
    "This    killing of      a       respected       DET     NOUN    ADP\n",
    "killing of      a       respected       cleric  NOUN    ADP     DET\n",
    "of      a       respected       cleric  will    ADP     DET     ADJ\n",
    "a       respected       cleric  will    be      DET     ADJ     NOUN\n",
    "respected       cleric  will    be      causing ADJ     NOUN    AUX\n",
    "cleric  will    be      causing us      NOUN    AUX     AUX\n",
    "will    be      causing us      trouble AUX     AUX     VERB\n",
    "be      causing us      trouble for     AUX     VERB    PRON\n",
    "```"
   ]
  },
  {
   "cell_type": "markdown",
   "metadata": {
    "slideshow": {
     "slide_type": "slide"
    }
   },
   "source": [
    "# Defining the network\n",
    "Here are the steps\n",
    "    1. Importing the Dynet package\n",
    "    2. Defining the model\n",
    "    3. Defining the updater\n",
    "    4. Defining embedding parameters and other layers"
   ]
  },
  {
   "cell_type": "code",
   "execution_count": 8,
   "metadata": {
    "slideshow": {
     "slide_type": "fragment"
    }
   },
   "outputs": [
    {
     "ename": "ImportError",
     "evalue": "No module named _dynet",
     "output_type": "error",
     "traceback": [
      "\u001b[0;31m---------------------------------------------------------------------------\u001b[0m",
      "\u001b[0;31mImportError\u001b[0m                               Traceback (most recent call last)",
      "\u001b[0;32m<ipython-input-8-d69416be063e>\u001b[0m in \u001b[0;36m<module>\u001b[0;34m()\u001b[0m\n\u001b[0;32m----> 1\u001b[0;31m \u001b[0;32mimport\u001b[0m \u001b[0mdynet\u001b[0m \u001b[0;32mas\u001b[0m \u001b[0mdynet\u001b[0m\u001b[0;34m\u001b[0m\u001b[0m\n\u001b[0m",
      "\u001b[0;32m/usr/local/lib/python2.7/site-packages/dynet.py\u001b[0m in \u001b[0;36m<module>\u001b[0;34m()\u001b[0m\n\u001b[1;32m     13\u001b[0m     \u001b[0;32mdef\u001b[0m \u001b[0mprint_graphviz\u001b[0m\u001b[0;34m(\u001b[0m\u001b[0;34m**\u001b[0m\u001b[0mkwarge\u001b[0m\u001b[0;34m)\u001b[0m\u001b[0;34m:\u001b[0m\u001b[0;34m\u001b[0m\u001b[0m\n\u001b[1;32m     14\u001b[0m         \u001b[0;32mprint\u001b[0m\u001b[0;34m(\u001b[0m\u001b[0;34m\"Run with --dynet-viz to get the visualization behavior.\"\u001b[0m\u001b[0;34m)\u001b[0m\u001b[0;34m\u001b[0m\u001b[0m\n\u001b[0;32m---> 15\u001b[0;31m     \u001b[0;32mfrom\u001b[0m \u001b[0m_dynet\u001b[0m \u001b[0;32mimport\u001b[0m \u001b[0;34m*\u001b[0m\u001b[0;34m\u001b[0m\u001b[0m\n\u001b[0m\u001b[1;32m     16\u001b[0m \u001b[0;34m\u001b[0m\u001b[0m\n\u001b[1;32m     17\u001b[0m \u001b[0m__version__\u001b[0m \u001b[0;34m=\u001b[0m \u001b[0;36m2.0\u001b[0m\u001b[0;34m\u001b[0m\u001b[0m\n",
      "\u001b[0;31mImportError\u001b[0m: No module named _dynet"
     ]
    }
   ],
   "source": [
    "import dynet as dynet"
   ]
  },
  {
   "cell_type": "markdown",
   "metadata": {
    "slideshow": {
     "slide_type": "fragment"
    }
   },
   "source": [
    "Import some auxiliary packages"
   ]
  },
  {
   "cell_type": "code",
   "execution_count": null,
   "metadata": {
    "slideshow": {
     "slide_type": "fragment"
    }
   },
   "outputs": [],
   "source": [
    "%matplotlib nbagg\n",
    "import random\n",
    "import matplotlib.pyplot as plt\n",
    "import numpy as np"
   ]
  },
  {
   "cell_type": "markdown",
   "metadata": {
    "slideshow": {
     "slide_type": "slide"
    }
   },
   "source": [
    "Steps in deep network design\n",
    "1. Define the model (parameter container)\n",
    "2. Define updater (e.g. SGD or ADAM) and bound it to the model\n",
    "3. Define parameters (embeddings and other parameters)"
   ]
  },
  {
   "cell_type": "code",
   "execution_count": 12,
   "metadata": {
    "slideshow": {
     "slide_type": "fragment"
    }
   },
   "outputs": [
    {
     "ename": "NameError",
     "evalue": "name 'dynet' is not defined",
     "output_type": "error",
     "traceback": [
      "\u001b[0;31m---------------------------------------------------------------------------\u001b[0m",
      "\u001b[0;31mNameError\u001b[0m                                 Traceback (most recent call last)",
      "\u001b[0;32m<ipython-input-12-6d99e87d3288>\u001b[0m in \u001b[0;36m<module>\u001b[0;34m()\u001b[0m\n\u001b[1;32m      1\u001b[0m \u001b[0;31m# first initialize a computation graph container (or model).\u001b[0m\u001b[0;34m\u001b[0m\u001b[0;34m\u001b[0m\u001b[0m\n\u001b[0;32m----> 2\u001b[0;31m \u001b[0mmodel\u001b[0m \u001b[0;34m=\u001b[0m \u001b[0mdynet\u001b[0m\u001b[0;34m.\u001b[0m\u001b[0mModel\u001b[0m\u001b[0;34m(\u001b[0m\u001b[0;34m)\u001b[0m\u001b[0;34m\u001b[0m\u001b[0m\n\u001b[0m",
      "\u001b[0;31mNameError\u001b[0m: name 'dynet' is not defined"
     ]
    }
   ],
   "source": [
    "# first initialize a computation graph container (or model).\n",
    "model = dynet.Model()"
   ]
  },
  {
   "cell_type": "code",
   "execution_count": 10,
   "metadata": {
    "slideshow": {
     "slide_type": "fragment"
    }
   },
   "outputs": [
    {
     "ename": "NameError",
     "evalue": "name 'dynet' is not defined",
     "output_type": "error",
     "traceback": [
      "\u001b[0;31m---------------------------------------------------------------------------\u001b[0m",
      "\u001b[0;31mNameError\u001b[0m                                 Traceback (most recent call last)",
      "\u001b[0;32m<ipython-input-10-022fe655a3d0>\u001b[0m in \u001b[0;36m<module>\u001b[0;34m()\u001b[0m\n\u001b[1;32m      1\u001b[0m \u001b[0;31m# assign the algorithm for backpropagation updates.\u001b[0m\u001b[0;34m\u001b[0m\u001b[0;34m\u001b[0m\u001b[0m\n\u001b[0;32m----> 2\u001b[0;31m \u001b[0mupdater\u001b[0m \u001b[0;34m=\u001b[0m \u001b[0mdynet\u001b[0m\u001b[0;34m.\u001b[0m\u001b[0mAdamTrainer\u001b[0m\u001b[0;34m(\u001b[0m\u001b[0mmodel\u001b[0m\u001b[0;34m)\u001b[0m\u001b[0;34m\u001b[0m\u001b[0m\n\u001b[0m",
      "\u001b[0;31mNameError\u001b[0m: name 'dynet' is not defined"
     ]
    }
   ],
   "source": [
    "# assign the algorithm for backpropagation updates.\n",
    "updater = dynet.AdamTrainer(model)"
   ]
  },
  {
   "cell_type": "code",
   "execution_count": 11,
   "metadata": {
    "slideshow": {
     "slide_type": "fragment"
    }
   },
   "outputs": [
    {
     "ename": "NameError",
     "evalue": "name 'model' is not defined",
     "output_type": "error",
     "traceback": [
      "\u001b[0;31m---------------------------------------------------------------------------\u001b[0m",
      "\u001b[0;31mNameError\u001b[0m                                 Traceback (most recent call last)",
      "\u001b[0;32m<ipython-input-11-23b832f4dcd0>\u001b[0m in \u001b[0;36m<module>\u001b[0;34m()\u001b[0m\n\u001b[1;32m      1\u001b[0m \u001b[0;31m# create embeddings for words and tag features.\u001b[0m\u001b[0;34m\u001b[0m\u001b[0;34m\u001b[0m\u001b[0m\n\u001b[1;32m      2\u001b[0m \u001b[0mword_embed_dim\u001b[0m\u001b[0;34m,\u001b[0m \u001b[0mpos_embed_dim\u001b[0m \u001b[0;34m=\u001b[0m \u001b[0;36m100\u001b[0m\u001b[0;34m,\u001b[0m \u001b[0;36m50\u001b[0m\u001b[0;34m\u001b[0m\u001b[0m\n\u001b[0;32m----> 3\u001b[0;31m \u001b[0mword_embedding\u001b[0m \u001b[0;34m=\u001b[0m \u001b[0mmodel\u001b[0m\u001b[0;34m.\u001b[0m\u001b[0madd_lookup_parameters\u001b[0m\u001b[0;34m(\u001b[0m\u001b[0;34m(\u001b[0m\u001b[0mnum_words\u001b[0m\u001b[0;34m(\u001b[0m\u001b[0;34m)\u001b[0m\u001b[0;34m,\u001b[0m \u001b[0mword_embed_dim\u001b[0m\u001b[0;34m)\u001b[0m\u001b[0;34m)\u001b[0m\u001b[0;34m\u001b[0m\u001b[0m\n\u001b[0m\u001b[1;32m      4\u001b[0m \u001b[0mtag_embedding\u001b[0m \u001b[0;34m=\u001b[0m \u001b[0mmodel\u001b[0m\u001b[0;34m.\u001b[0m\u001b[0madd_lookup_parameters\u001b[0m\u001b[0;34m(\u001b[0m\u001b[0;34m(\u001b[0m\u001b[0mnum_tag_feats\u001b[0m\u001b[0;34m(\u001b[0m\u001b[0;34m)\u001b[0m\u001b[0;34m,\u001b[0m \u001b[0mpos_embed_dim\u001b[0m\u001b[0;34m)\u001b[0m\u001b[0;34m)\u001b[0m\u001b[0;34m\u001b[0m\u001b[0m\n",
      "\u001b[0;31mNameError\u001b[0m: name 'model' is not defined"
     ]
    }
   ],
   "source": [
    "# create embeddings for words and tag features.\n",
    "word_embed_dim, pos_embed_dim = 100, 50\n",
    "word_embedding = model.add_lookup_parameters((num_words(), word_embed_dim))\n",
    "tag_embedding = model.add_lookup_parameters((num_tag_feats(), pos_embed_dim))"
   ]
  },
  {
   "cell_type": "code",
   "execution_count": 68,
   "metadata": {
    "slideshow": {
     "slide_type": "slide"
    }
   },
   "outputs": [],
   "source": [
    "# assign transfer function\n",
    "transfer = dynet.rectify  # can be dynet.logistic or dynet.tanh as well."
   ]
  },
  {
   "cell_type": "code",
   "execution_count": 69,
   "metadata": {
    "slideshow": {
     "slide_type": "fragment"
    }
   },
   "outputs": [],
   "source": [
    "# define the input dimension for the embedding layer.\n",
    "# here we assume to see two words after and before and current word (meaning 5 word embeddings)\n",
    "# and to see the last two predicted tags (meaning two tag embeddings)\n",
    "input_dim = 5 * word_embed_dim + 2 * pos_embed_dim\n",
    "\n",
    "hidden_dim, minibatch_size = 200, 1000\n",
    "\n",
    "# define the hidden layer.\n",
    "hidden_layer = model.add_parameters((hidden_dim, input_dim))\n",
    "\n",
    "# define the hidden layer bias term and initialize it as constant 0.2.\n",
    "hidden_layer_bias = model.add_parameters(hidden_dim, init=dynet.ConstInitializer(0.2))\n",
    "\n",
    "# define the output weight.\n",
    "output_layer = model.add_parameters((num_tags(), hidden_dim))\n",
    "\n",
    "# define the bias vector and initialize it as zero.\n",
    "output_bias = model.add_parameters(num_tags(), init=dynet.ConstInitializer(0))"
   ]
  },
  {
   "cell_type": "markdown",
   "metadata": {
    "slideshow": {
     "slide_type": "slide"
    }
   },
   "source": [
    "# Implementing the Forward function\n"
   ]
  },
  {
   "cell_type": "code",
   "execution_count": 70,
   "metadata": {
    "slideshow": {
     "slide_type": "fragment"
    }
   },
   "outputs": [],
   "source": [
    "def forward(features):\n",
    "   # extract word and tags ids\n",
    "   word_ids = [word2id(word_feat) for word_feat in features[0:5]]\n",
    "   tag_ids = [feat_tag2id(tag_feat) for tag_feat in features[5:]]\n",
    "\n",
    "   # extract word embeddings and tag embeddings from features\n",
    "   word_embeds = [word_embedding[wid] for wid in word_ids]\n",
    "   tag_embeds = [tag_embedding[tid] for tid in tag_ids]\n",
    "\n",
    "   # concatenating all features (recall that '+' for lists is equivalent to appending two lists)\n",
    "   embedding_layer = dynet.concatenate(word_embeds + tag_embeds)\n",
    "    \n",
    "   # calculating the hidden layer\n",
    "   # .expr() converts a parameter to a matrix expression in dynetnet (its a dynetnet-specific syntax).\n",
    "   hidden = transfer(hidden_layer.expr() * embedding_layer + hidden_layer_bias.expr())\n",
    "\n",
    "   # calculating the output layer\n",
    "   output = output_layer.expr() * hidden + output_bias.expr()\n",
    "\n",
    "   # return a list of outputs\n",
    "   return output"
   ]
  },
  {
   "cell_type": "markdown",
   "metadata": {
    "slideshow": {
     "slide_type": "slide"
    }
   },
   "source": [
    "# Implementing the Decoder"
   ]
  },
  {
   "cell_type": "code",
   "execution_count": 71,
   "metadata": {
    "slideshow": {
     "slide_type": "fragment"
    }
   },
   "outputs": [],
   "source": [
    "def decode(ws):\n",
    "   # first putting two start symbols\n",
    "   ws = ['<s>', '<s>'] + ws + ['</s>', '</s>']\n",
    "   ts = ['<s>', '<s>']\n",
    "\n",
    "   for i in range(2, len(ws) - 2):\n",
    "       features = ws[i - 2:i + 3] + ts[i - 2:i]\n",
    "\n",
    "       # running forward\n",
    "       output = forward(features)\n",
    "\n",
    "       # getting list value of the output\n",
    "       scores = output.npvalue()\n",
    "\n",
    "       # getting best tag\n",
    "       best_tag_id = np.argmax(scores)\n",
    "\n",
    "       # assigning the best tag\n",
    "       ts.append(tagid2tag_str(best_tag_id))\n",
    "\n",
    "       # refresh dynet memory (computation graph)\n",
    "       dynet.renew_cg()\n",
    "\n",
    "   return ts[2:]"
   ]
  },
  {
   "cell_type": "markdown",
   "metadata": {
    "slideshow": {
     "slide_type": "slide"
    }
   },
   "source": [
    "# Training with backpropagation"
   ]
  },
  {
   "cell_type": "markdown",
   "metadata": {
    "slideshow": {
     "slide_type": "slide"
    }
   },
   "source": [
    "## Setting the MatplotLib setting"
   ]
  },
  {
   "cell_type": "code",
   "execution_count": 72,
   "metadata": {
    "slideshow": {
     "slide_type": "fragment"
    }
   },
   "outputs": [
    {
     "data": {
      "application/javascript": [
       "/* Put everything inside the global mpl namespace */\n",
       "window.mpl = {};\n",
       "\n",
       "\n",
       "mpl.get_websocket_type = function() {\n",
       "    if (typeof(WebSocket) !== 'undefined') {\n",
       "        return WebSocket;\n",
       "    } else if (typeof(MozWebSocket) !== 'undefined') {\n",
       "        return MozWebSocket;\n",
       "    } else {\n",
       "        alert('Your browser does not have WebSocket support.' +\n",
       "              'Please try Chrome, Safari or Firefox ≥ 6. ' +\n",
       "              'Firefox 4 and 5 are also supported but you ' +\n",
       "              'have to enable WebSockets in about:config.');\n",
       "    };\n",
       "}\n",
       "\n",
       "mpl.figure = function(figure_id, websocket, ondownload, parent_element) {\n",
       "    this.id = figure_id;\n",
       "\n",
       "    this.ws = websocket;\n",
       "\n",
       "    this.supports_binary = (this.ws.binaryType != undefined);\n",
       "\n",
       "    if (!this.supports_binary) {\n",
       "        var warnings = document.getElementById(\"mpl-warnings\");\n",
       "        if (warnings) {\n",
       "            warnings.style.display = 'block';\n",
       "            warnings.textContent = (\n",
       "                \"This browser does not support binary websocket messages. \" +\n",
       "                    \"Performance may be slow.\");\n",
       "        }\n",
       "    }\n",
       "\n",
       "    this.imageObj = new Image();\n",
       "\n",
       "    this.context = undefined;\n",
       "    this.message = undefined;\n",
       "    this.canvas = undefined;\n",
       "    this.rubberband_canvas = undefined;\n",
       "    this.rubberband_context = undefined;\n",
       "    this.format_dropdown = undefined;\n",
       "\n",
       "    this.image_mode = 'full';\n",
       "\n",
       "    this.root = $('<div/>');\n",
       "    this._root_extra_style(this.root)\n",
       "    this.root.attr('style', 'display: inline-block');\n",
       "\n",
       "    $(parent_element).append(this.root);\n",
       "\n",
       "    this._init_header(this);\n",
       "    this._init_canvas(this);\n",
       "    this._init_toolbar(this);\n",
       "\n",
       "    var fig = this;\n",
       "\n",
       "    this.waiting = false;\n",
       "\n",
       "    this.ws.onopen =  function () {\n",
       "            fig.send_message(\"supports_binary\", {value: fig.supports_binary});\n",
       "            fig.send_message(\"send_image_mode\", {});\n",
       "            if (mpl.ratio != 1) {\n",
       "                fig.send_message(\"set_dpi_ratio\", {'dpi_ratio': mpl.ratio});\n",
       "            }\n",
       "            fig.send_message(\"refresh\", {});\n",
       "        }\n",
       "\n",
       "    this.imageObj.onload = function() {\n",
       "            if (fig.image_mode == 'full') {\n",
       "                // Full images could contain transparency (where diff images\n",
       "                // almost always do), so we need to clear the canvas so that\n",
       "                // there is no ghosting.\n",
       "                fig.context.clearRect(0, 0, fig.canvas.width, fig.canvas.height);\n",
       "            }\n",
       "            fig.context.drawImage(fig.imageObj, 0, 0);\n",
       "        };\n",
       "\n",
       "    this.imageObj.onunload = function() {\n",
       "        fig.ws.close();\n",
       "    }\n",
       "\n",
       "    this.ws.onmessage = this._make_on_message_function(this);\n",
       "\n",
       "    this.ondownload = ondownload;\n",
       "}\n",
       "\n",
       "mpl.figure.prototype._init_header = function() {\n",
       "    var titlebar = $(\n",
       "        '<div class=\"ui-dialog-titlebar ui-widget-header ui-corner-all ' +\n",
       "        'ui-helper-clearfix\"/>');\n",
       "    var titletext = $(\n",
       "        '<div class=\"ui-dialog-title\" style=\"width: 100%; ' +\n",
       "        'text-align: center; padding: 3px;\"/>');\n",
       "    titlebar.append(titletext)\n",
       "    this.root.append(titlebar);\n",
       "    this.header = titletext[0];\n",
       "}\n",
       "\n",
       "\n",
       "\n",
       "mpl.figure.prototype._canvas_extra_style = function(canvas_div) {\n",
       "\n",
       "}\n",
       "\n",
       "\n",
       "mpl.figure.prototype._root_extra_style = function(canvas_div) {\n",
       "\n",
       "}\n",
       "\n",
       "mpl.figure.prototype._init_canvas = function() {\n",
       "    var fig = this;\n",
       "\n",
       "    var canvas_div = $('<div/>');\n",
       "\n",
       "    canvas_div.attr('style', 'position: relative; clear: both; outline: 0');\n",
       "\n",
       "    function canvas_keyboard_event(event) {\n",
       "        return fig.key_event(event, event['data']);\n",
       "    }\n",
       "\n",
       "    canvas_div.keydown('key_press', canvas_keyboard_event);\n",
       "    canvas_div.keyup('key_release', canvas_keyboard_event);\n",
       "    this.canvas_div = canvas_div\n",
       "    this._canvas_extra_style(canvas_div)\n",
       "    this.root.append(canvas_div);\n",
       "\n",
       "    var canvas = $('<canvas/>');\n",
       "    canvas.addClass('mpl-canvas');\n",
       "    canvas.attr('style', \"left: 0; top: 0; z-index: 0; outline: 0\")\n",
       "\n",
       "    this.canvas = canvas[0];\n",
       "    this.context = canvas[0].getContext(\"2d\");\n",
       "\n",
       "    var backingStore = this.context.backingStorePixelRatio ||\n",
       "\tthis.context.webkitBackingStorePixelRatio ||\n",
       "\tthis.context.mozBackingStorePixelRatio ||\n",
       "\tthis.context.msBackingStorePixelRatio ||\n",
       "\tthis.context.oBackingStorePixelRatio ||\n",
       "\tthis.context.backingStorePixelRatio || 1;\n",
       "\n",
       "    mpl.ratio = (window.devicePixelRatio || 1) / backingStore;\n",
       "\n",
       "    var rubberband = $('<canvas/>');\n",
       "    rubberband.attr('style', \"position: absolute; left: 0; top: 0; z-index: 1;\")\n",
       "\n",
       "    var pass_mouse_events = true;\n",
       "\n",
       "    canvas_div.resizable({\n",
       "        start: function(event, ui) {\n",
       "            pass_mouse_events = false;\n",
       "        },\n",
       "        resize: function(event, ui) {\n",
       "            fig.request_resize(ui.size.width, ui.size.height);\n",
       "        },\n",
       "        stop: function(event, ui) {\n",
       "            pass_mouse_events = true;\n",
       "            fig.request_resize(ui.size.width, ui.size.height);\n",
       "        },\n",
       "    });\n",
       "\n",
       "    function mouse_event_fn(event) {\n",
       "        if (pass_mouse_events)\n",
       "            return fig.mouse_event(event, event['data']);\n",
       "    }\n",
       "\n",
       "    rubberband.mousedown('button_press', mouse_event_fn);\n",
       "    rubberband.mouseup('button_release', mouse_event_fn);\n",
       "    // Throttle sequential mouse events to 1 every 20ms.\n",
       "    rubberband.mousemove('motion_notify', mouse_event_fn);\n",
       "\n",
       "    rubberband.mouseenter('figure_enter', mouse_event_fn);\n",
       "    rubberband.mouseleave('figure_leave', mouse_event_fn);\n",
       "\n",
       "    canvas_div.on(\"wheel\", function (event) {\n",
       "        event = event.originalEvent;\n",
       "        event['data'] = 'scroll'\n",
       "        if (event.deltaY < 0) {\n",
       "            event.step = 1;\n",
       "        } else {\n",
       "            event.step = -1;\n",
       "        }\n",
       "        mouse_event_fn(event);\n",
       "    });\n",
       "\n",
       "    canvas_div.append(canvas);\n",
       "    canvas_div.append(rubberband);\n",
       "\n",
       "    this.rubberband = rubberband;\n",
       "    this.rubberband_canvas = rubberband[0];\n",
       "    this.rubberband_context = rubberband[0].getContext(\"2d\");\n",
       "    this.rubberband_context.strokeStyle = \"#000000\";\n",
       "\n",
       "    this._resize_canvas = function(width, height) {\n",
       "        // Keep the size of the canvas, canvas container, and rubber band\n",
       "        // canvas in synch.\n",
       "        canvas_div.css('width', width)\n",
       "        canvas_div.css('height', height)\n",
       "\n",
       "        canvas.attr('width', width * mpl.ratio);\n",
       "        canvas.attr('height', height * mpl.ratio);\n",
       "        canvas.attr('style', 'width: ' + width + 'px; height: ' + height + 'px;');\n",
       "\n",
       "        rubberband.attr('width', width);\n",
       "        rubberband.attr('height', height);\n",
       "    }\n",
       "\n",
       "    // Set the figure to an initial 600x600px, this will subsequently be updated\n",
       "    // upon first draw.\n",
       "    this._resize_canvas(600, 600);\n",
       "\n",
       "    // Disable right mouse context menu.\n",
       "    $(this.rubberband_canvas).bind(\"contextmenu\",function(e){\n",
       "        return false;\n",
       "    });\n",
       "\n",
       "    function set_focus () {\n",
       "        canvas.focus();\n",
       "        canvas_div.focus();\n",
       "    }\n",
       "\n",
       "    window.setTimeout(set_focus, 100);\n",
       "}\n",
       "\n",
       "mpl.figure.prototype._init_toolbar = function() {\n",
       "    var fig = this;\n",
       "\n",
       "    var nav_element = $('<div/>')\n",
       "    nav_element.attr('style', 'width: 100%');\n",
       "    this.root.append(nav_element);\n",
       "\n",
       "    // Define a callback function for later on.\n",
       "    function toolbar_event(event) {\n",
       "        return fig.toolbar_button_onclick(event['data']);\n",
       "    }\n",
       "    function toolbar_mouse_event(event) {\n",
       "        return fig.toolbar_button_onmouseover(event['data']);\n",
       "    }\n",
       "\n",
       "    for(var toolbar_ind in mpl.toolbar_items) {\n",
       "        var name = mpl.toolbar_items[toolbar_ind][0];\n",
       "        var tooltip = mpl.toolbar_items[toolbar_ind][1];\n",
       "        var image = mpl.toolbar_items[toolbar_ind][2];\n",
       "        var method_name = mpl.toolbar_items[toolbar_ind][3];\n",
       "\n",
       "        if (!name) {\n",
       "            // put a spacer in here.\n",
       "            continue;\n",
       "        }\n",
       "        var button = $('<button/>');\n",
       "        button.addClass('ui-button ui-widget ui-state-default ui-corner-all ' +\n",
       "                        'ui-button-icon-only');\n",
       "        button.attr('role', 'button');\n",
       "        button.attr('aria-disabled', 'false');\n",
       "        button.click(method_name, toolbar_event);\n",
       "        button.mouseover(tooltip, toolbar_mouse_event);\n",
       "\n",
       "        var icon_img = $('<span/>');\n",
       "        icon_img.addClass('ui-button-icon-primary ui-icon');\n",
       "        icon_img.addClass(image);\n",
       "        icon_img.addClass('ui-corner-all');\n",
       "\n",
       "        var tooltip_span = $('<span/>');\n",
       "        tooltip_span.addClass('ui-button-text');\n",
       "        tooltip_span.html(tooltip);\n",
       "\n",
       "        button.append(icon_img);\n",
       "        button.append(tooltip_span);\n",
       "\n",
       "        nav_element.append(button);\n",
       "    }\n",
       "\n",
       "    var fmt_picker_span = $('<span/>');\n",
       "\n",
       "    var fmt_picker = $('<select/>');\n",
       "    fmt_picker.addClass('mpl-toolbar-option ui-widget ui-widget-content');\n",
       "    fmt_picker_span.append(fmt_picker);\n",
       "    nav_element.append(fmt_picker_span);\n",
       "    this.format_dropdown = fmt_picker[0];\n",
       "\n",
       "    for (var ind in mpl.extensions) {\n",
       "        var fmt = mpl.extensions[ind];\n",
       "        var option = $(\n",
       "            '<option/>', {selected: fmt === mpl.default_extension}).html(fmt);\n",
       "        fmt_picker.append(option)\n",
       "    }\n",
       "\n",
       "    // Add hover states to the ui-buttons\n",
       "    $( \".ui-button\" ).hover(\n",
       "        function() { $(this).addClass(\"ui-state-hover\");},\n",
       "        function() { $(this).removeClass(\"ui-state-hover\");}\n",
       "    );\n",
       "\n",
       "    var status_bar = $('<span class=\"mpl-message\"/>');\n",
       "    nav_element.append(status_bar);\n",
       "    this.message = status_bar[0];\n",
       "}\n",
       "\n",
       "mpl.figure.prototype.request_resize = function(x_pixels, y_pixels) {\n",
       "    // Request matplotlib to resize the figure. Matplotlib will then trigger a resize in the client,\n",
       "    // which will in turn request a refresh of the image.\n",
       "    this.send_message('resize', {'width': x_pixels, 'height': y_pixels});\n",
       "}\n",
       "\n",
       "mpl.figure.prototype.send_message = function(type, properties) {\n",
       "    properties['type'] = type;\n",
       "    properties['figure_id'] = this.id;\n",
       "    this.ws.send(JSON.stringify(properties));\n",
       "}\n",
       "\n",
       "mpl.figure.prototype.send_draw_message = function() {\n",
       "    if (!this.waiting) {\n",
       "        this.waiting = true;\n",
       "        this.ws.send(JSON.stringify({type: \"draw\", figure_id: this.id}));\n",
       "    }\n",
       "}\n",
       "\n",
       "\n",
       "mpl.figure.prototype.handle_save = function(fig, msg) {\n",
       "    var format_dropdown = fig.format_dropdown;\n",
       "    var format = format_dropdown.options[format_dropdown.selectedIndex].value;\n",
       "    fig.ondownload(fig, format);\n",
       "}\n",
       "\n",
       "\n",
       "mpl.figure.prototype.handle_resize = function(fig, msg) {\n",
       "    var size = msg['size'];\n",
       "    if (size[0] != fig.canvas.width || size[1] != fig.canvas.height) {\n",
       "        fig._resize_canvas(size[0], size[1]);\n",
       "        fig.send_message(\"refresh\", {});\n",
       "    };\n",
       "}\n",
       "\n",
       "mpl.figure.prototype.handle_rubberband = function(fig, msg) {\n",
       "    var x0 = msg['x0'] / mpl.ratio;\n",
       "    var y0 = (fig.canvas.height - msg['y0']) / mpl.ratio;\n",
       "    var x1 = msg['x1'] / mpl.ratio;\n",
       "    var y1 = (fig.canvas.height - msg['y1']) / mpl.ratio;\n",
       "    x0 = Math.floor(x0) + 0.5;\n",
       "    y0 = Math.floor(y0) + 0.5;\n",
       "    x1 = Math.floor(x1) + 0.5;\n",
       "    y1 = Math.floor(y1) + 0.5;\n",
       "    var min_x = Math.min(x0, x1);\n",
       "    var min_y = Math.min(y0, y1);\n",
       "    var width = Math.abs(x1 - x0);\n",
       "    var height = Math.abs(y1 - y0);\n",
       "\n",
       "    fig.rubberband_context.clearRect(\n",
       "        0, 0, fig.canvas.width, fig.canvas.height);\n",
       "\n",
       "    fig.rubberband_context.strokeRect(min_x, min_y, width, height);\n",
       "}\n",
       "\n",
       "mpl.figure.prototype.handle_figure_label = function(fig, msg) {\n",
       "    // Updates the figure title.\n",
       "    fig.header.textContent = msg['label'];\n",
       "}\n",
       "\n",
       "mpl.figure.prototype.handle_cursor = function(fig, msg) {\n",
       "    var cursor = msg['cursor'];\n",
       "    switch(cursor)\n",
       "    {\n",
       "    case 0:\n",
       "        cursor = 'pointer';\n",
       "        break;\n",
       "    case 1:\n",
       "        cursor = 'default';\n",
       "        break;\n",
       "    case 2:\n",
       "        cursor = 'crosshair';\n",
       "        break;\n",
       "    case 3:\n",
       "        cursor = 'move';\n",
       "        break;\n",
       "    }\n",
       "    fig.rubberband_canvas.style.cursor = cursor;\n",
       "}\n",
       "\n",
       "mpl.figure.prototype.handle_message = function(fig, msg) {\n",
       "    fig.message.textContent = msg['message'];\n",
       "}\n",
       "\n",
       "mpl.figure.prototype.handle_draw = function(fig, msg) {\n",
       "    // Request the server to send over a new figure.\n",
       "    fig.send_draw_message();\n",
       "}\n",
       "\n",
       "mpl.figure.prototype.handle_image_mode = function(fig, msg) {\n",
       "    fig.image_mode = msg['mode'];\n",
       "}\n",
       "\n",
       "mpl.figure.prototype.updated_canvas_event = function() {\n",
       "    // Called whenever the canvas gets updated.\n",
       "    this.send_message(\"ack\", {});\n",
       "}\n",
       "\n",
       "// A function to construct a web socket function for onmessage handling.\n",
       "// Called in the figure constructor.\n",
       "mpl.figure.prototype._make_on_message_function = function(fig) {\n",
       "    return function socket_on_message(evt) {\n",
       "        if (evt.data instanceof Blob) {\n",
       "            /* FIXME: We get \"Resource interpreted as Image but\n",
       "             * transferred with MIME type text/plain:\" errors on\n",
       "             * Chrome.  But how to set the MIME type?  It doesn't seem\n",
       "             * to be part of the websocket stream */\n",
       "            evt.data.type = \"image/png\";\n",
       "\n",
       "            /* Free the memory for the previous frames */\n",
       "            if (fig.imageObj.src) {\n",
       "                (window.URL || window.webkitURL).revokeObjectURL(\n",
       "                    fig.imageObj.src);\n",
       "            }\n",
       "\n",
       "            fig.imageObj.src = (window.URL || window.webkitURL).createObjectURL(\n",
       "                evt.data);\n",
       "            fig.updated_canvas_event();\n",
       "            fig.waiting = false;\n",
       "            return;\n",
       "        }\n",
       "        else if (typeof evt.data === 'string' && evt.data.slice(0, 21) == \"data:image/png;base64\") {\n",
       "            fig.imageObj.src = evt.data;\n",
       "            fig.updated_canvas_event();\n",
       "            fig.waiting = false;\n",
       "            return;\n",
       "        }\n",
       "\n",
       "        var msg = JSON.parse(evt.data);\n",
       "        var msg_type = msg['type'];\n",
       "\n",
       "        // Call the  \"handle_{type}\" callback, which takes\n",
       "        // the figure and JSON message as its only arguments.\n",
       "        try {\n",
       "            var callback = fig[\"handle_\" + msg_type];\n",
       "        } catch (e) {\n",
       "            console.log(\"No handler for the '\" + msg_type + \"' message type: \", msg);\n",
       "            return;\n",
       "        }\n",
       "\n",
       "        if (callback) {\n",
       "            try {\n",
       "                // console.log(\"Handling '\" + msg_type + \"' message: \", msg);\n",
       "                callback(fig, msg);\n",
       "            } catch (e) {\n",
       "                console.log(\"Exception inside the 'handler_\" + msg_type + \"' callback:\", e, e.stack, msg);\n",
       "            }\n",
       "        }\n",
       "    };\n",
       "}\n",
       "\n",
       "// from http://stackoverflow.com/questions/1114465/getting-mouse-location-in-canvas\n",
       "mpl.findpos = function(e) {\n",
       "    //this section is from http://www.quirksmode.org/js/events_properties.html\n",
       "    var targ;\n",
       "    if (!e)\n",
       "        e = window.event;\n",
       "    if (e.target)\n",
       "        targ = e.target;\n",
       "    else if (e.srcElement)\n",
       "        targ = e.srcElement;\n",
       "    if (targ.nodeType == 3) // defeat Safari bug\n",
       "        targ = targ.parentNode;\n",
       "\n",
       "    // jQuery normalizes the pageX and pageY\n",
       "    // pageX,Y are the mouse positions relative to the document\n",
       "    // offset() returns the position of the element relative to the document\n",
       "    var x = e.pageX - $(targ).offset().left;\n",
       "    var y = e.pageY - $(targ).offset().top;\n",
       "\n",
       "    return {\"x\": x, \"y\": y};\n",
       "};\n",
       "\n",
       "/*\n",
       " * return a copy of an object with only non-object keys\n",
       " * we need this to avoid circular references\n",
       " * http://stackoverflow.com/a/24161582/3208463\n",
       " */\n",
       "function simpleKeys (original) {\n",
       "  return Object.keys(original).reduce(function (obj, key) {\n",
       "    if (typeof original[key] !== 'object')\n",
       "        obj[key] = original[key]\n",
       "    return obj;\n",
       "  }, {});\n",
       "}\n",
       "\n",
       "mpl.figure.prototype.mouse_event = function(event, name) {\n",
       "    var canvas_pos = mpl.findpos(event)\n",
       "\n",
       "    if (name === 'button_press')\n",
       "    {\n",
       "        this.canvas.focus();\n",
       "        this.canvas_div.focus();\n",
       "    }\n",
       "\n",
       "    var x = canvas_pos.x * mpl.ratio;\n",
       "    var y = canvas_pos.y * mpl.ratio;\n",
       "\n",
       "    this.send_message(name, {x: x, y: y, button: event.button,\n",
       "                             step: event.step,\n",
       "                             guiEvent: simpleKeys(event)});\n",
       "\n",
       "    /* This prevents the web browser from automatically changing to\n",
       "     * the text insertion cursor when the button is pressed.  We want\n",
       "     * to control all of the cursor setting manually through the\n",
       "     * 'cursor' event from matplotlib */\n",
       "    event.preventDefault();\n",
       "    return false;\n",
       "}\n",
       "\n",
       "mpl.figure.prototype._key_event_extra = function(event, name) {\n",
       "    // Handle any extra behaviour associated with a key event\n",
       "}\n",
       "\n",
       "mpl.figure.prototype.key_event = function(event, name) {\n",
       "\n",
       "    // Prevent repeat events\n",
       "    if (name == 'key_press')\n",
       "    {\n",
       "        if (event.which === this._key)\n",
       "            return;\n",
       "        else\n",
       "            this._key = event.which;\n",
       "    }\n",
       "    if (name == 'key_release')\n",
       "        this._key = null;\n",
       "\n",
       "    var value = '';\n",
       "    if (event.ctrlKey && event.which != 17)\n",
       "        value += \"ctrl+\";\n",
       "    if (event.altKey && event.which != 18)\n",
       "        value += \"alt+\";\n",
       "    if (event.shiftKey && event.which != 16)\n",
       "        value += \"shift+\";\n",
       "\n",
       "    value += 'k';\n",
       "    value += event.which.toString();\n",
       "\n",
       "    this._key_event_extra(event, name);\n",
       "\n",
       "    this.send_message(name, {key: value,\n",
       "                             guiEvent: simpleKeys(event)});\n",
       "    return false;\n",
       "}\n",
       "\n",
       "mpl.figure.prototype.toolbar_button_onclick = function(name) {\n",
       "    if (name == 'download') {\n",
       "        this.handle_save(this, null);\n",
       "    } else {\n",
       "        this.send_message(\"toolbar_button\", {name: name});\n",
       "    }\n",
       "};\n",
       "\n",
       "mpl.figure.prototype.toolbar_button_onmouseover = function(tooltip) {\n",
       "    this.message.textContent = tooltip;\n",
       "};\n",
       "mpl.toolbar_items = [[\"Home\", \"Reset original view\", \"fa fa-home icon-home\", \"home\"], [\"Back\", \"Back to  previous view\", \"fa fa-arrow-left icon-arrow-left\", \"back\"], [\"Forward\", \"Forward to next view\", \"fa fa-arrow-right icon-arrow-right\", \"forward\"], [\"\", \"\", \"\", \"\"], [\"Pan\", \"Pan axes with left mouse, zoom with right\", \"fa fa-arrows icon-move\", \"pan\"], [\"Zoom\", \"Zoom to rectangle\", \"fa fa-square-o icon-check-empty\", \"zoom\"], [\"\", \"\", \"\", \"\"], [\"Download\", \"Download plot\", \"fa fa-floppy-o icon-save\", \"download\"]];\n",
       "\n",
       "mpl.extensions = [\"eps\", \"pdf\", \"png\", \"ps\", \"raw\", \"svg\"];\n",
       "\n",
       "mpl.default_extension = \"png\";var comm_websocket_adapter = function(comm) {\n",
       "    // Create a \"websocket\"-like object which calls the given IPython comm\n",
       "    // object with the appropriate methods. Currently this is a non binary\n",
       "    // socket, so there is still some room for performance tuning.\n",
       "    var ws = {};\n",
       "\n",
       "    ws.close = function() {\n",
       "        comm.close()\n",
       "    };\n",
       "    ws.send = function(m) {\n",
       "        //console.log('sending', m);\n",
       "        comm.send(m);\n",
       "    };\n",
       "    // Register the callback with on_msg.\n",
       "    comm.on_msg(function(msg) {\n",
       "        //console.log('receiving', msg['content']['data'], msg);\n",
       "        // Pass the mpl event to the overriden (by mpl) onmessage function.\n",
       "        ws.onmessage(msg['content']['data'])\n",
       "    });\n",
       "    return ws;\n",
       "}\n",
       "\n",
       "mpl.mpl_figure_comm = function(comm, msg) {\n",
       "    // This is the function which gets called when the mpl process\n",
       "    // starts-up an IPython Comm through the \"matplotlib\" channel.\n",
       "\n",
       "    var id = msg.content.data.id;\n",
       "    // Get hold of the div created by the display call when the Comm\n",
       "    // socket was opened in Python.\n",
       "    var element = $(\"#\" + id);\n",
       "    var ws_proxy = comm_websocket_adapter(comm)\n",
       "\n",
       "    function ondownload(figure, format) {\n",
       "        window.open(figure.imageObj.src);\n",
       "    }\n",
       "\n",
       "    var fig = new mpl.figure(id, ws_proxy,\n",
       "                           ondownload,\n",
       "                           element.get(0));\n",
       "\n",
       "    // Call onopen now - mpl needs it, as it is assuming we've passed it a real\n",
       "    // web socket which is closed, not our websocket->open comm proxy.\n",
       "    ws_proxy.onopen();\n",
       "\n",
       "    fig.parent_element = element.get(0);\n",
       "    fig.cell_info = mpl.find_output_cell(\"<div id='\" + id + \"'></div>\");\n",
       "    if (!fig.cell_info) {\n",
       "        console.error(\"Failed to find cell for figure\", id, fig);\n",
       "        return;\n",
       "    }\n",
       "\n",
       "    var output_index = fig.cell_info[2]\n",
       "    var cell = fig.cell_info[0];\n",
       "\n",
       "};\n",
       "\n",
       "mpl.figure.prototype.handle_close = function(fig, msg) {\n",
       "    var width = fig.canvas.width/mpl.ratio\n",
       "    fig.root.unbind('remove')\n",
       "\n",
       "    // Update the output cell to use the data from the current canvas.\n",
       "    fig.push_to_output();\n",
       "    var dataURL = fig.canvas.toDataURL();\n",
       "    // Re-enable the keyboard manager in IPython - without this line, in FF,\n",
       "    // the notebook keyboard shortcuts fail.\n",
       "    IPython.keyboard_manager.enable()\n",
       "    $(fig.parent_element).html('<img src=\"' + dataURL + '\" width=\"' + width + '\">');\n",
       "    fig.close_ws(fig, msg);\n",
       "}\n",
       "\n",
       "mpl.figure.prototype.close_ws = function(fig, msg){\n",
       "    fig.send_message('closing', msg);\n",
       "    // fig.ws.close()\n",
       "}\n",
       "\n",
       "mpl.figure.prototype.push_to_output = function(remove_interactive) {\n",
       "    // Turn the data on the canvas into data in the output cell.\n",
       "    var width = this.canvas.width/mpl.ratio\n",
       "    var dataURL = this.canvas.toDataURL();\n",
       "    this.cell_info[1]['text/html'] = '<img src=\"' + dataURL + '\" width=\"' + width + '\">';\n",
       "}\n",
       "\n",
       "mpl.figure.prototype.updated_canvas_event = function() {\n",
       "    // Tell IPython that the notebook contents must change.\n",
       "    IPython.notebook.set_dirty(true);\n",
       "    this.send_message(\"ack\", {});\n",
       "    var fig = this;\n",
       "    // Wait a second, then push the new image to the DOM so\n",
       "    // that it is saved nicely (might be nice to debounce this).\n",
       "    setTimeout(function () { fig.push_to_output() }, 1000);\n",
       "}\n",
       "\n",
       "mpl.figure.prototype._init_toolbar = function() {\n",
       "    var fig = this;\n",
       "\n",
       "    var nav_element = $('<div/>')\n",
       "    nav_element.attr('style', 'width: 100%');\n",
       "    this.root.append(nav_element);\n",
       "\n",
       "    // Define a callback function for later on.\n",
       "    function toolbar_event(event) {\n",
       "        return fig.toolbar_button_onclick(event['data']);\n",
       "    }\n",
       "    function toolbar_mouse_event(event) {\n",
       "        return fig.toolbar_button_onmouseover(event['data']);\n",
       "    }\n",
       "\n",
       "    for(var toolbar_ind in mpl.toolbar_items){\n",
       "        var name = mpl.toolbar_items[toolbar_ind][0];\n",
       "        var tooltip = mpl.toolbar_items[toolbar_ind][1];\n",
       "        var image = mpl.toolbar_items[toolbar_ind][2];\n",
       "        var method_name = mpl.toolbar_items[toolbar_ind][3];\n",
       "\n",
       "        if (!name) { continue; };\n",
       "\n",
       "        var button = $('<button class=\"btn btn-default\" href=\"#\" title=\"' + name + '\"><i class=\"fa ' + image + ' fa-lg\"></i></button>');\n",
       "        button.click(method_name, toolbar_event);\n",
       "        button.mouseover(tooltip, toolbar_mouse_event);\n",
       "        nav_element.append(button);\n",
       "    }\n",
       "\n",
       "    // Add the status bar.\n",
       "    var status_bar = $('<span class=\"mpl-message\" style=\"text-align:right; float: right;\"/>');\n",
       "    nav_element.append(status_bar);\n",
       "    this.message = status_bar[0];\n",
       "\n",
       "    // Add the close button to the window.\n",
       "    var buttongrp = $('<div class=\"btn-group inline pull-right\"></div>');\n",
       "    var button = $('<button class=\"btn btn-mini btn-primary\" href=\"#\" title=\"Stop Interaction\"><i class=\"fa fa-power-off icon-remove icon-large\"></i></button>');\n",
       "    button.click(function (evt) { fig.handle_close(fig, {}); } );\n",
       "    button.mouseover('Stop Interaction', toolbar_mouse_event);\n",
       "    buttongrp.append(button);\n",
       "    var titlebar = this.root.find($('.ui-dialog-titlebar'));\n",
       "    titlebar.prepend(buttongrp);\n",
       "}\n",
       "\n",
       "mpl.figure.prototype._root_extra_style = function(el){\n",
       "    var fig = this\n",
       "    el.on(\"remove\", function(){\n",
       "\tfig.close_ws(fig, {});\n",
       "    });\n",
       "}\n",
       "\n",
       "mpl.figure.prototype._canvas_extra_style = function(el){\n",
       "    // this is important to make the div 'focusable\n",
       "    el.attr('tabindex', 0)\n",
       "    // reach out to IPython and tell the keyboard manager to turn it's self\n",
       "    // off when our div gets focus\n",
       "\n",
       "    // location in version 3\n",
       "    if (IPython.notebook.keyboard_manager) {\n",
       "        IPython.notebook.keyboard_manager.register_events(el);\n",
       "    }\n",
       "    else {\n",
       "        // location in version 2\n",
       "        IPython.keyboard_manager.register_events(el);\n",
       "    }\n",
       "\n",
       "}\n",
       "\n",
       "mpl.figure.prototype._key_event_extra = function(event, name) {\n",
       "    var manager = IPython.notebook.keyboard_manager;\n",
       "    if (!manager)\n",
       "        manager = IPython.keyboard_manager;\n",
       "\n",
       "    // Check for shift+enter\n",
       "    if (event.shiftKey && event.which == 13) {\n",
       "        this.canvas_div.blur();\n",
       "        event.shiftKey = false;\n",
       "        // Send a \"J\" for go to next cell\n",
       "        event.which = 74;\n",
       "        event.keyCode = 74;\n",
       "        manager.command_mode();\n",
       "        manager.handle_keydown(event);\n",
       "    }\n",
       "}\n",
       "\n",
       "mpl.figure.prototype.handle_save = function(fig, msg) {\n",
       "    fig.ondownload(fig, null);\n",
       "}\n",
       "\n",
       "\n",
       "mpl.find_output_cell = function(html_output) {\n",
       "    // Return the cell and output element which can be found *uniquely* in the notebook.\n",
       "    // Note - this is a bit hacky, but it is done because the \"notebook_saving.Notebook\"\n",
       "    // IPython event is triggered only after the cells have been serialised, which for\n",
       "    // our purposes (turning an active figure into a static one), is too late.\n",
       "    var cells = IPython.notebook.get_cells();\n",
       "    var ncells = cells.length;\n",
       "    for (var i=0; i<ncells; i++) {\n",
       "        var cell = cells[i];\n",
       "        if (cell.cell_type === 'code'){\n",
       "            for (var j=0; j<cell.output_area.outputs.length; j++) {\n",
       "                var data = cell.output_area.outputs[j];\n",
       "                if (data.data) {\n",
       "                    // IPython >= 3 moved mimebundle to data attribute of output\n",
       "                    data = data.data;\n",
       "                }\n",
       "                if (data['text/html'] == html_output) {\n",
       "                    return [cell, data, j];\n",
       "                }\n",
       "            }\n",
       "        }\n",
       "    }\n",
       "}\n",
       "\n",
       "// Register the function which deals with the matplotlib target/channel.\n",
       "// The kernel may be null if the page has been refreshed.\n",
       "if (IPython.notebook.kernel != null) {\n",
       "    IPython.notebook.kernel.comm_manager.register_target('matplotlib', mpl.mpl_figure_comm);\n",
       "}\n"
      ],
      "text/plain": [
       "<IPython.core.display.Javascript object>"
      ]
     },
     "metadata": {},
     "output_type": "display_data"
    },
    {
     "data": {
      "text/html": [
       "<img src=\"data:image/png;base64,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\" width=\"640\">"
      ],
      "text/plain": [
       "<IPython.core.display.HTML object>"
      ]
     },
     "metadata": {},
     "output_type": "display_data"
    }
   ],
   "source": [
    "# matplotlib config\n",
    "loss_values = []\n",
    "plt.ion()\n",
    "ax = plt.gca()\n",
    "ax.set_xlim([0, 10])\n",
    "ax.set_ylim([0, 3])\n",
    "plt.title(\"Loss over time\")\n",
    "plt.xlabel(\"Minibatch\")\n",
    "plt.ylabel(\"Loss\")\n",
    "plt.show()"
   ]
  },
  {
   "cell_type": "code",
   "execution_count": 73,
   "metadata": {
    "slideshow": {
     "slide_type": "slide"
    }
   },
   "outputs": [],
   "source": [
    "def plot(loss_values):\n",
    "    ax.set_xlim([0, len(loss_values)+10])\n",
    "    ax.plot(loss_values)\n",
    "    plt.draw()\n",
    "    try:\n",
    "       plt.pause(0.0001)\n",
    "    except: pass"
   ]
  },
  {
   "cell_type": "markdown",
   "metadata": {
    "slideshow": {
     "slide_type": "slide"
    }
   },
   "source": [
    "## Reading the training data into a list"
   ]
  },
  {
   "cell_type": "code",
   "execution_count": 74,
   "metadata": {},
   "outputs": [],
   "source": [
    "train_data = open(data_path+'.data', 'r').read().strip().split('\\n')"
   ]
  },
  {
   "cell_type": "code",
   "execution_count": 75,
   "metadata": {
    "slideshow": {
     "slide_type": "slide"
    }
   },
   "outputs": [],
   "source": [
    "def train_iter(train_data):\n",
    "        losses = [] # minibatch loss vector\n",
    "        random.shuffle(train_data) # shuffle the training data.\n",
    "\n",
    "        for line in train_data:\n",
    "            fields = line.strip().split('\\t')\n",
    "            features, label, gold_label = fields[:-1], fields[-1], tag2id(fields[-1])\n",
    "            result = forward(features)\n",
    "\n",
    "            # getting loss with respect to negative log softmax function and the gold label; and appending to the minibatch losses.\n",
    "            loss = dynet.pickneglogsoftmax(result, gold_label)\n",
    "            losses.append(loss)\n",
    "\n",
    "            if len(losses) >= minibatch_size:\n",
    "                minibatch_loss = dynet.esum(losses) / len(losses) # now we have enough loss values to get loss for minibatch\n",
    "                minibatch_loss.forward() # calling dynetnet to run forward computation for all minibatch items\n",
    "                minibatch_loss_value = minibatch_loss.value() # getting float value of the loss for current minibatch\n",
    "\n",
    "                # printing info and plotting\n",
    "                loss_values.append(minibatch_loss_value)\n",
    "                \n",
    "                if len(loss_values)%10==0: plot(loss_values)\n",
    "                                    \n",
    "                minibatch_loss.backward() # calling dynetnet to run backpropagation\n",
    "                updater.update() # calling dynet to change parameter values with respect to current backpropagation\n",
    "\n",
    "                # empty the loss vector and refresh the memory of dynetnet\n",
    "                losses = []\n",
    "                dynet.renew_cg()\n",
    "\n",
    "        dynet.renew_cg() # there are still some minibatch items in the memory but they are smaller than the minibatch size"
   ]
  },
  {
   "cell_type": "markdown",
   "metadata": {
    "slideshow": {
     "slide_type": "slide"
    }
   },
   "source": [
    "# Saving and loading network"
   ]
  },
  {
   "cell_type": "code",
   "execution_count": 76,
   "metadata": {
    "slideshow": {
     "slide_type": "fragment"
    }
   },
   "outputs": [],
   "source": [
    "def load(filename):\n",
    "    model.populate(filename)\n",
    "\n",
    "def save(filename):\n",
    "    model.save(filename)"
   ]
  },
  {
   "cell_type": "markdown",
   "metadata": {
    "slideshow": {
     "slide_type": "slide"
    }
   },
   "source": [
    "# Training epochs"
   ]
  },
  {
   "cell_type": "code",
   "execution_count": 78,
   "metadata": {
    "slideshow": {
     "slide_type": "fragment"
    }
   },
   "outputs": [
    {
     "name": "stdout",
     "output_type": "stream",
     "text": [
      "epoch 1\n",
      "epoch 2\n",
      "epoch 3\n",
      "epoch 4\n",
      "epoch 5\n",
      "finished training!\n"
     ]
    }
   ],
   "source": [
    "for i in range(5):\n",
    "    print 'epoch', (i+1)\n",
    "    train_iter(train_data)\n",
    "    dynet.renew_cg()\n",
    "print 'finished training!'"
   ]
  },
  {
   "cell_type": "markdown",
   "metadata": {
    "slideshow": {
     "slide_type": "slide"
    }
   },
   "source": [
    "# Tagging a file"
   ]
  },
  {
   "cell_type": "code",
   "execution_count": 79,
   "metadata": {},
   "outputs": [],
   "source": [
    "test_file = '/Users/msr/Downloads/en.pos.dev.raw'\n",
    "writer = open(test_file+'.output', 'w')\n",
    "for sentence in open(test_file, 'r'):\n",
    "    words = sentence.strip().split()\n",
    "    tags = decode(words)\n",
    "    output = [word + '\\t' + tag for word, tag in zip(words, tags)]\n",
    "    writer.write('\\n'.join(output) + '\\n\\n')\n",
    "writer.close()"
   ]
  }
 ],
 "metadata": {
  "celltoolbar": "Slideshow",
  "kernelspec": {
   "display_name": "Python 2",
   "language": "python",
   "name": "python2"
  },
  "language_info": {
   "codemirror_mode": {
    "name": "ipython",
    "version": 2
   },
   "file_extension": ".py",
   "mimetype": "text/x-python",
   "name": "python",
   "nbconvert_exporter": "python",
   "pygments_lexer": "ipython2",
   "version": "2.7.13"
  }
 },
 "nbformat": 4,
 "nbformat_minor": 2
}
