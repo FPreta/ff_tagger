{
 "cells": [
  {
   "cell_type": "markdown",
   "metadata": {
    "slideshow": {
     "slide_type": "slide"
    }
   },
   "source": [
    "# A POS tagger based on deep neural network"
   ]
  },
  {
   "cell_type": "markdown",
   "metadata": {
    "slideshow": {
     "slide_type": "slide"
    }
   },
   "source": [
    "## Creating Vocabulary from the training data\n",
    "First we should read from data file. The data looks like the following\n",
    "```txt\n",
    "Two     NUM\n",
    "of      ADP\n",
    "them    PRON\n",
    "were    AUX\n",
    "being   AUX\n",
    "run     VERB\n",
    "by      ADP\n",
    "2       NUM\n",
    "officials       NOUN\n",
    "of      ADP\n",
    "the     DET\n",
    "Ministry        PROPN\n",
    "of      ADP\n",
    "the     DET\n",
    "Interior        PROPN\n",
    "!       PUNCT\n",
    "\n",
    "The     DET\n",
    "MoI     PROPN\n",
    "in      ADP\n",
    "Iraq    PROPN\n",
    "is      AUX\n",
    "equivalent      ADJ\n",
    "to      ADP\n",
    "the     DET\n",
    "US      PROPN\n",
    "FBI     PROPN\n",
    ",       PUNCT\n",
    "so      ADV\n",
    "this    PRON\n",
    "would   AUX\n",
    "be      VERB\n",
    "like    SCONJ\n",
    "having  VERB\n",
    "J.      PROPN\n",
    "Edgar   PROPN\n",
    "Hoover  PROPN\n",
    "unwittingly     ADV\n",
    "employ  VERB\n",
    "at      ADP\n",
    "a       DET\n",
    "high    ADJ\n",
    "level   NOUN\n",
    "members NOUN\n",
    "of      ADP\n",
    "the     DET\n",
    "Weathermen      PROPN\n",
    "bombers NOUN\n",
    "back    ADV\n",
    "in      ADP\n",
    "the     DET\n",
    "1960s   NOUN\n",
    ".       PUNCT\n",
    "\n",
    "\n",
    "```"
   ]
  },
  {
   "cell_type": "code",
   "execution_count": 1,
   "metadata": {
    "slideshow": {
     "slide_type": "fragment"
    }
   },
   "outputs": [],
   "source": [
    "data_path = 'data/en.pos.train'\n",
    "sentences = open(data_path, 'r').read().strip().split('\\n\\n')"
   ]
  },
  {
   "cell_type": "markdown",
   "metadata": {
    "slideshow": {
     "slide_type": "slide"
    }
   },
   "source": [
    "Then we should count the frequency of words and pos tags"
   ]
  },
  {
   "cell_type": "code",
   "execution_count": 2,
   "metadata": {
    "slideshow": {
     "slide_type": "fragment"
    }
   },
   "outputs": [],
   "source": [
    "from collections import defaultdict\n",
    "\n",
    "word_count, tags = defaultdict(int), set()\n",
    "for sentence in sentences:\n",
    "    lines = sentence.strip().split('\\n')\n",
    "    for line in lines:\n",
    "        word, tag = line.strip().split('\\t')\n",
    "        word_count[word] += 1\n",
    "        tags.add(tag)\n",
    "tags = list(tags)"
   ]
  },
  {
   "cell_type": "markdown",
   "metadata": {
    "slideshow": {
     "slide_type": "slide"
    }
   },
   "source": [
    "Now we assume that words with frequency less than one should be disregarded."
   ]
  },
  {
   "cell_type": "code",
   "execution_count": 3,
   "metadata": {
    "slideshow": {
     "slide_type": "fragment"
    }
   },
   "outputs": [],
   "source": [
    "words = [word for word in word_count.keys() if word_count[word]>1]"
   ]
  },
  {
   "cell_type": "markdown",
   "metadata": {
    "slideshow": {
     "slide_type": "slide"
    }
   },
   "source": [
    "We should also take into account special symbols start of a sentence and end of a sentence"
   ]
  },
  {
   "cell_type": "code",
   "execution_count": 4,
   "metadata": {
    "slideshow": {
     "slide_type": "fragment"
    }
   },
   "outputs": [],
   "source": [
    "words = ['<UNK>', '<s>', '</s>'] + words\n",
    "feat_tags = ['<s>'] + tags\n",
    "output_tags = tags"
   ]
  },
  {
   "cell_type": "markdown",
   "metadata": {
    "slideshow": {
     "slide_type": "slide"
    }
   },
   "source": [
    "We should also create string to integer mapping (because neural network libraries work with integers)"
   ]
  },
  {
   "cell_type": "code",
   "execution_count": 5,
   "metadata": {
    "slideshow": {
     "slide_type": "fragment"
    }
   },
   "outputs": [],
   "source": [
    "word_dict = {word: i for i, word in enumerate(words)}\n",
    "feat_tags_dict = {tag: i for i, tag in enumerate(feat_tags)}\n",
    "output_tag_dict = {tag: i for i, tag in enumerate(output_tags)}"
   ]
  },
  {
   "cell_type": "markdown",
   "metadata": {
    "slideshow": {
     "slide_type": "slide"
    }
   },
   "source": [
    "We define some auxiliary functions to access the words, tag feature and tag output"
   ]
  },
  {
   "cell_type": "code",
   "execution_count": 6,
   "metadata": {
    "slideshow": {
     "slide_type": "fragment"
    }
   },
   "outputs": [],
   "source": [
    "def tagid2tag_str(id):\n",
    "    return output_tags[id]\n",
    "\n",
    "def tag2id(tag):\n",
    "    return output_tag_dict[tag]\n",
    "\n",
    "def feat_tag2id(tag):\n",
    "    return feat_tags_dict[tag]\n",
    "\n",
    "def word2id(word):\n",
    "    return word_dict[word] if word in word_dict else word_dict['<UNK>']\n",
    "\n",
    "def num_words():\n",
    "    return len(words)\n",
    "\n",
    "def num_tag_feats():\n",
    "    return len(feat_tags)\n",
    "\n",
    "def num_tags():\n",
    "    return len(output_tags)"
   ]
  },
  {
   "cell_type": "markdown",
   "metadata": {
    "slideshow": {
     "slide_type": "slide"
    }
   },
   "source": [
    "# Converting training data to a csv-style format"
   ]
  },
  {
   "cell_type": "code",
   "execution_count": 7,
   "metadata": {
    "slideshow": {
     "slide_type": "fragment"
    }
   },
   "outputs": [],
   "source": [
    "sens = open(data_path, 'r').read().strip().split('\\n\\n')\n",
    "writer = open(data_path+'.data', 'w')\n",
    "\n",
    "for sen in sens:\n",
    "    lines = sen.strip().split('\\n')\n",
    "    ws, ts = ['<s>', '<s>'], ['<s>', '<s>']\n",
    "    for line in lines:\n",
    "        word, tag = line.strip().split()\n",
    "        ws.append(word)\n",
    "        ts.append(tag)\n",
    "    ws += ['</s>', '</s>']\n",
    "\n",
    "    for i in range(len(lines)):\n",
    "        feats = [ws[i], ws[i + 1], ws[i + 2], ws[i + 3], ws[i + 4], ts[i], ts[i + 1]]\n",
    "        label = ts[i + 2]\n",
    "        writer.write('\\t'.join(feats) + '\\t' + label + '\\n')\n",
    "writer.close()\n"
   ]
  },
  {
   "cell_type": "markdown",
   "metadata": {
    "slideshow": {
     "slide_type": "slide"
    }
   },
   "source": [
    "The output data should look like the following (__first 5 are word features, the other two are pos features, the last is the pos label__)\n",
    "```txt\n",
    "<s>     <s>     Al      -       Zaman   <s>     <s>     PROPN\n",
    "<s>     Al      -       Zaman   :       <s>     PROPN   PUNCT\n",
    "Al      -       Zaman   :       American        PROPN   PUNCT   PROPN\n",
    "-       Zaman   :       American        forces  PUNCT   PROPN   PUNCT\n",
    "Zaman   :       American        forces  killed  PROPN   PUNCT   ADJ\n",
    ":       American        forces  killed  Shaikh  PUNCT   ADJ     NOUN\n",
    "American        forces  killed  Shaikh  Abdullah        ADJ     NOUN    VERB\n",
    "forces  killed  Shaikh  Abdullah        al      NOUN    VERB    PROPN\n",
    "killed  Shaikh  Abdullah        al      -       VERB    PROPN   PROPN\n",
    "Shaikh  Abdullah        al      -       Ani     PROPN   PROPN   PROPN\n",
    "Abdullah        al      -       Ani     ,       PROPN   PROPN   PUNCT\n",
    "al      -       Ani     ,       the     PROPN   PUNCT   PROPN\n",
    "-       Ani     ,       the     preacher        PUNCT   PROPN   PUNCT\n",
    "Ani     ,       the     preacher        at      PROPN   PUNCT   DET\n",
    ",       the     preacher        at      the     PUNCT   DET     NOUN\n",
    "the     preacher        at      the     mosque  DET     NOUN    ADP\n",
    "preacher        at      the     mosque  in      NOUN    ADP     DET\n",
    "at      the     mosque  in      the     ADP     DET     NOUN\n",
    "the     mosque  in      the     town    DET     NOUN    ADP\n",
    "mosque  in      the     town    of      NOUN    ADP     DET\n",
    "in      the     town    of      Qaim    ADP     DET     NOUN\n",
    "the     town    of      Qaim    ,       DET     NOUN    ADP\n",
    "town    of      Qaim    ,       near    NOUN    ADP     PROPN\n",
    "of      Qaim    ,       near    the     ADP     PROPN   PUNCT\n",
    "Qaim    ,       near    the     Syrian  PROPN   PUNCT   ADP\n",
    ",       near    the     Syrian  border  PUNCT   ADP     DET\n",
    "near    the     Syrian  border  .       ADP     DET     ADJ\n",
    "the     Syrian  border  .       </s>    DET     ADJ     NOUN\n",
    "Syrian  border  .       </s>    </s>    ADJ     NOUN    PUNCT\n",
    "<s>     <s>     [       This    killing <s>     <s>     PUNCT\n",
    "<s>     [       This    killing of      <s>     PUNCT   DET\n",
    "[       This    killing of      a       PUNCT   DET     NOUN\n",
    "This    killing of      a       respected       DET     NOUN    ADP\n",
    "killing of      a       respected       cleric  NOUN    ADP     DET\n",
    "of      a       respected       cleric  will    ADP     DET     ADJ\n",
    "a       respected       cleric  will    be      DET     ADJ     NOUN\n",
    "respected       cleric  will    be      causing ADJ     NOUN    AUX\n",
    "cleric  will    be      causing us      NOUN    AUX     AUX\n",
    "will    be      causing us      trouble AUX     AUX     VERB\n",
    "be      causing us      trouble for     AUX     VERB    PRON\n",
    "```"
   ]
  },
  {
   "cell_type": "markdown",
   "metadata": {
    "slideshow": {
     "slide_type": "slide"
    }
   },
   "source": [
    "# Defining the network\n",
    "Here are the steps\n",
    "    1. Importing the Dynet package\n",
    "    2. Defining the model\n",
    "    3. Defining the updater\n",
    "    4. Defining embedding parameters and other layers"
   ]
  },
  {
   "cell_type": "code",
   "execution_count": 8,
   "metadata": {
    "slideshow": {
     "slide_type": "fragment"
    }
   },
   "outputs": [],
   "source": [
    "import dynet as dynet"
   ]
  },
  {
   "cell_type": "markdown",
   "metadata": {
    "slideshow": {
     "slide_type": "fragment"
    }
   },
   "source": [
    "Import some auxiliary packages"
   ]
  },
  {
   "cell_type": "code",
   "execution_count": 9,
   "metadata": {
    "slideshow": {
     "slide_type": "fragment"
    }
   },
   "outputs": [],
   "source": [
    "%matplotlib nbagg\n",
    "import random\n",
    "import matplotlib.pyplot as plt\n",
    "import numpy as np"
   ]
  },
  {
   "cell_type": "markdown",
   "metadata": {
    "slideshow": {
     "slide_type": "slide"
    }
   },
   "source": [
    "Steps in deep network design\n",
    "1. Define the model (parameter container)\n",
    "2. Define updater (e.g. SGD or ADAM) and bound it to the model\n",
    "3. Define parameters (embeddings and other parameters)"
   ]
  },
  {
   "cell_type": "code",
   "execution_count": 10,
   "metadata": {
    "slideshow": {
     "slide_type": "fragment"
    }
   },
   "outputs": [],
   "source": [
    "# first initialize a computation graph container (or model).\n",
    "model = dynet.Model()"
   ]
  },
  {
   "cell_type": "code",
   "execution_count": 11,
   "metadata": {
    "slideshow": {
     "slide_type": "fragment"
    }
   },
   "outputs": [],
   "source": [
    "# assign the algorithm for backpropagation updates.\n",
    "updater = dynet.AdamTrainer(model)"
   ]
  },
  {
   "cell_type": "code",
   "execution_count": 12,
   "metadata": {
    "slideshow": {
     "slide_type": "fragment"
    }
   },
   "outputs": [],
   "source": [
    "# create embeddings for words and tag features.\n",
    "word_embed_dim, pos_embed_dim = 100, 50\n",
    "word_embedding = model.add_lookup_parameters((num_words(), word_embed_dim))\n",
    "tag_embedding = model.add_lookup_parameters((num_tag_feats(), pos_embed_dim))"
   ]
  },
  {
   "cell_type": "code",
   "execution_count": 13,
   "metadata": {
    "slideshow": {
     "slide_type": "slide"
    }
   },
   "outputs": [],
   "source": [
    "# assign transfer function\n",
    "transfer = dynet.rectify  # can be dynet.logistic or dynet.tanh as well."
   ]
  },
  {
   "cell_type": "code",
   "execution_count": 14,
   "metadata": {
    "slideshow": {
     "slide_type": "fragment"
    }
   },
   "outputs": [
    {
     "name": "stdout",
     "output_type": "stream",
     "text": [
      "(200, 600)\n"
     ]
    }
   ],
   "source": [
    "# define the input dimension for the embedding layer.\n",
    "# here we assume to see two words after and before and current word (meaning 5 word embeddings)\n",
    "# and to see the last two predicted tags (meaning two tag embeddings)\n",
    "input_dim = 5 * word_embed_dim + 2 * pos_embed_dim\n",
    "\n",
    "hidden_dim, minibatch_size = 200, 1000\n",
    "\n",
    "# define the hidden layer.\n",
    "hidden_layer = model.add_parameters((hidden_dim, input_dim))\n",
    "print(hidden_layer.shape())\n",
    "\n",
    "# define the hidden layer bias term and initialize it as constant 0.2.\n",
    "hidden_layer_bias = model.add_parameters(hidden_dim, init=dynet.ConstInitializer(0.2))\n",
    "\n",
    "# define the output weight.\n",
    "output_layer = model.add_parameters((num_tags(), hidden_dim))\n",
    "\n",
    "# define the bias vector and initialize it as zero.\n",
    "output_bias = model.add_parameters(num_tags(), init=dynet.ConstInitializer(0))"
   ]
  },
  {
   "cell_type": "markdown",
   "metadata": {
    "slideshow": {
     "slide_type": "slide"
    }
   },
   "source": [
    "# Implementing the Forward function\n"
   ]
  },
  {
   "cell_type": "code",
   "execution_count": 15,
   "metadata": {
    "slideshow": {
     "slide_type": "fragment"
    }
   },
   "outputs": [],
   "source": [
    "def forward(features):\n",
    "    \n",
    "   # extract word and tags ids\n",
    "    word_ids = [word2id(word_feat) for word_feat in features[0:5]]\n",
    "    tag_ids = [feat_tag2id(tag_feat) for tag_feat in features[5:]]\n",
    "\n",
    "   # extract word embeddings and tag embeddings from features\n",
    "    word_embeds = [word_embedding[wid] for wid in word_ids] #(5,word_embedding_dim)\n",
    "    tag_embeds = [tag_embedding[tid] for tid in tag_ids] #(2,tag_embedding_dim)\n",
    "\n",
    "   # concatenating all features (recall that '+' for lists is equivalent to appending two lists)\n",
    "    embedding_layer = dynet.concatenate(word_embeds + tag_embeds)\n",
    "   # calculating the hidden layer\n",
    "   # .expr() converts a parameter to a matrix expression in dynetnet (its a dynetnet-specific syntax).\n",
    "    hidden = transfer(hidden_layer.expr() * embedding_layer + hidden_layer_bias.expr()) #(hidden_dim,input)*(input,1)\n",
    "\n",
    "   # calculating the output layer\n",
    "    output = output_layer.expr() * hidden + output_bias.expr()\n",
    "\n",
    "   # return a list of outputs\n",
    "    return output"
   ]
  },
  {
   "cell_type": "markdown",
   "metadata": {
    "slideshow": {
     "slide_type": "slide"
    }
   },
   "source": [
    "# Implementing the Decoder"
   ]
  },
  {
   "cell_type": "code",
   "execution_count": 16,
   "metadata": {
    "slideshow": {
     "slide_type": "fragment"
    }
   },
   "outputs": [],
   "source": [
    "def decode(ws):\n",
    "   # first putting two start symbols\n",
    "    ws = ['<s>', '<s>'] + ws + ['</s>', '</s>']\n",
    "    ts = ['<s>', '<s>']\n",
    "\n",
    "    for i in range(2, len(ws) - 2):\n",
    "        features = ws[i - 2:i + 3] + ts[i - 2:i]\n",
    "\n",
    "       # running forward\n",
    "        output = forward(features)\n",
    "\n",
    "       # getting list value of the output\n",
    "        scores = output.npvalue()\n",
    "\n",
    "       # getting best tag\n",
    "        best_tag_id = np.argmax(scores)\n",
    "\n",
    "       # assigning the best tag\n",
    "        ts.append(tagid2tag_str(best_tag_id))\n",
    "\n",
    "       # refresh dynet memory (computation graph)\n",
    "        dynet.renew_cg()\n",
    "\n",
    "    return ts[2:]"
   ]
  },
  {
   "cell_type": "markdown",
   "metadata": {
    "slideshow": {
     "slide_type": "slide"
    }
   },
   "source": [
    "# Training with backpropagation"
   ]
  },
  {
   "cell_type": "markdown",
   "metadata": {
    "slideshow": {
     "slide_type": "slide"
    }
   },
   "source": [
    "## Setting the MatplotLib setting"
   ]
  },
  {
   "cell_type": "code",
   "execution_count": 17,
   "metadata": {
    "slideshow": {
     "slide_type": "fragment"
    }
   },
   "outputs": [
    {
     "data": {
      "application/javascript": [
       "/* Put everything inside the global mpl namespace */\n",
       "window.mpl = {};\n",
       "\n",
       "\n",
       "mpl.get_websocket_type = function() {\n",
       "    if (typeof(WebSocket) !== 'undefined') {\n",
       "        return WebSocket;\n",
       "    } else if (typeof(MozWebSocket) !== 'undefined') {\n",
       "        return MozWebSocket;\n",
       "    } else {\n",
       "        alert('Your browser does not have WebSocket support.' +\n",
       "              'Please try Chrome, Safari or Firefox ≥ 6. ' +\n",
       "              'Firefox 4 and 5 are also supported but you ' +\n",
       "              'have to enable WebSockets in about:config.');\n",
       "    };\n",
       "}\n",
       "\n",
       "mpl.figure = function(figure_id, websocket, ondownload, parent_element) {\n",
       "    this.id = figure_id;\n",
       "\n",
       "    this.ws = websocket;\n",
       "\n",
       "    this.supports_binary = (this.ws.binaryType != undefined);\n",
       "\n",
       "    if (!this.supports_binary) {\n",
       "        var warnings = document.getElementById(\"mpl-warnings\");\n",
       "        if (warnings) {\n",
       "            warnings.style.display = 'block';\n",
       "            warnings.textContent = (\n",
       "                \"This browser does not support binary websocket messages. \" +\n",
       "                    \"Performance may be slow.\");\n",
       "        }\n",
       "    }\n",
       "\n",
       "    this.imageObj = new Image();\n",
       "\n",
       "    this.context = undefined;\n",
       "    this.message = undefined;\n",
       "    this.canvas = undefined;\n",
       "    this.rubberband_canvas = undefined;\n",
       "    this.rubberband_context = undefined;\n",
       "    this.format_dropdown = undefined;\n",
       "\n",
       "    this.image_mode = 'full';\n",
       "\n",
       "    this.root = $('<div/>');\n",
       "    this._root_extra_style(this.root)\n",
       "    this.root.attr('style', 'display: inline-block');\n",
       "\n",
       "    $(parent_element).append(this.root);\n",
       "\n",
       "    this._init_header(this);\n",
       "    this._init_canvas(this);\n",
       "    this._init_toolbar(this);\n",
       "\n",
       "    var fig = this;\n",
       "\n",
       "    this.waiting = false;\n",
       "\n",
       "    this.ws.onopen =  function () {\n",
       "            fig.send_message(\"supports_binary\", {value: fig.supports_binary});\n",
       "            fig.send_message(\"send_image_mode\", {});\n",
       "            if (mpl.ratio != 1) {\n",
       "                fig.send_message(\"set_dpi_ratio\", {'dpi_ratio': mpl.ratio});\n",
       "            }\n",
       "            fig.send_message(\"refresh\", {});\n",
       "        }\n",
       "\n",
       "    this.imageObj.onload = function() {\n",
       "            if (fig.image_mode == 'full') {\n",
       "                // Full images could contain transparency (where diff images\n",
       "                // almost always do), so we need to clear the canvas so that\n",
       "                // there is no ghosting.\n",
       "                fig.context.clearRect(0, 0, fig.canvas.width, fig.canvas.height);\n",
       "            }\n",
       "            fig.context.drawImage(fig.imageObj, 0, 0);\n",
       "        };\n",
       "\n",
       "    this.imageObj.onunload = function() {\n",
       "        fig.ws.close();\n",
       "    }\n",
       "\n",
       "    this.ws.onmessage = this._make_on_message_function(this);\n",
       "\n",
       "    this.ondownload = ondownload;\n",
       "}\n",
       "\n",
       "mpl.figure.prototype._init_header = function() {\n",
       "    var titlebar = $(\n",
       "        '<div class=\"ui-dialog-titlebar ui-widget-header ui-corner-all ' +\n",
       "        'ui-helper-clearfix\"/>');\n",
       "    var titletext = $(\n",
       "        '<div class=\"ui-dialog-title\" style=\"width: 100%; ' +\n",
       "        'text-align: center; padding: 3px;\"/>');\n",
       "    titlebar.append(titletext)\n",
       "    this.root.append(titlebar);\n",
       "    this.header = titletext[0];\n",
       "}\n",
       "\n",
       "\n",
       "\n",
       "mpl.figure.prototype._canvas_extra_style = function(canvas_div) {\n",
       "\n",
       "}\n",
       "\n",
       "\n",
       "mpl.figure.prototype._root_extra_style = function(canvas_div) {\n",
       "\n",
       "}\n",
       "\n",
       "mpl.figure.prototype._init_canvas = function() {\n",
       "    var fig = this;\n",
       "\n",
       "    var canvas_div = $('<div/>');\n",
       "\n",
       "    canvas_div.attr('style', 'position: relative; clear: both; outline: 0');\n",
       "\n",
       "    function canvas_keyboard_event(event) {\n",
       "        return fig.key_event(event, event['data']);\n",
       "    }\n",
       "\n",
       "    canvas_div.keydown('key_press', canvas_keyboard_event);\n",
       "    canvas_div.keyup('key_release', canvas_keyboard_event);\n",
       "    this.canvas_div = canvas_div\n",
       "    this._canvas_extra_style(canvas_div)\n",
       "    this.root.append(canvas_div);\n",
       "\n",
       "    var canvas = $('<canvas/>');\n",
       "    canvas.addClass('mpl-canvas');\n",
       "    canvas.attr('style', \"left: 0; top: 0; z-index: 0; outline: 0\")\n",
       "\n",
       "    this.canvas = canvas[0];\n",
       "    this.context = canvas[0].getContext(\"2d\");\n",
       "\n",
       "    var backingStore = this.context.backingStorePixelRatio ||\n",
       "\tthis.context.webkitBackingStorePixelRatio ||\n",
       "\tthis.context.mozBackingStorePixelRatio ||\n",
       "\tthis.context.msBackingStorePixelRatio ||\n",
       "\tthis.context.oBackingStorePixelRatio ||\n",
       "\tthis.context.backingStorePixelRatio || 1;\n",
       "\n",
       "    mpl.ratio = (window.devicePixelRatio || 1) / backingStore;\n",
       "\n",
       "    var rubberband = $('<canvas/>');\n",
       "    rubberband.attr('style', \"position: absolute; left: 0; top: 0; z-index: 1;\")\n",
       "\n",
       "    var pass_mouse_events = true;\n",
       "\n",
       "    canvas_div.resizable({\n",
       "        start: function(event, ui) {\n",
       "            pass_mouse_events = false;\n",
       "        },\n",
       "        resize: function(event, ui) {\n",
       "            fig.request_resize(ui.size.width, ui.size.height);\n",
       "        },\n",
       "        stop: function(event, ui) {\n",
       "            pass_mouse_events = true;\n",
       "            fig.request_resize(ui.size.width, ui.size.height);\n",
       "        },\n",
       "    });\n",
       "\n",
       "    function mouse_event_fn(event) {\n",
       "        if (pass_mouse_events)\n",
       "            return fig.mouse_event(event, event['data']);\n",
       "    }\n",
       "\n",
       "    rubberband.mousedown('button_press', mouse_event_fn);\n",
       "    rubberband.mouseup('button_release', mouse_event_fn);\n",
       "    // Throttle sequential mouse events to 1 every 20ms.\n",
       "    rubberband.mousemove('motion_notify', mouse_event_fn);\n",
       "\n",
       "    rubberband.mouseenter('figure_enter', mouse_event_fn);\n",
       "    rubberband.mouseleave('figure_leave', mouse_event_fn);\n",
       "\n",
       "    canvas_div.on(\"wheel\", function (event) {\n",
       "        event = event.originalEvent;\n",
       "        event['data'] = 'scroll'\n",
       "        if (event.deltaY < 0) {\n",
       "            event.step = 1;\n",
       "        } else {\n",
       "            event.step = -1;\n",
       "        }\n",
       "        mouse_event_fn(event);\n",
       "    });\n",
       "\n",
       "    canvas_div.append(canvas);\n",
       "    canvas_div.append(rubberband);\n",
       "\n",
       "    this.rubberband = rubberband;\n",
       "    this.rubberband_canvas = rubberband[0];\n",
       "    this.rubberband_context = rubberband[0].getContext(\"2d\");\n",
       "    this.rubberband_context.strokeStyle = \"#000000\";\n",
       "\n",
       "    this._resize_canvas = function(width, height) {\n",
       "        // Keep the size of the canvas, canvas container, and rubber band\n",
       "        // canvas in synch.\n",
       "        canvas_div.css('width', width)\n",
       "        canvas_div.css('height', height)\n",
       "\n",
       "        canvas.attr('width', width * mpl.ratio);\n",
       "        canvas.attr('height', height * mpl.ratio);\n",
       "        canvas.attr('style', 'width: ' + width + 'px; height: ' + height + 'px;');\n",
       "\n",
       "        rubberband.attr('width', width);\n",
       "        rubberband.attr('height', height);\n",
       "    }\n",
       "\n",
       "    // Set the figure to an initial 600x600px, this will subsequently be updated\n",
       "    // upon first draw.\n",
       "    this._resize_canvas(600, 600);\n",
       "\n",
       "    // Disable right mouse context menu.\n",
       "    $(this.rubberband_canvas).bind(\"contextmenu\",function(e){\n",
       "        return false;\n",
       "    });\n",
       "\n",
       "    function set_focus () {\n",
       "        canvas.focus();\n",
       "        canvas_div.focus();\n",
       "    }\n",
       "\n",
       "    window.setTimeout(set_focus, 100);\n",
       "}\n",
       "\n",
       "mpl.figure.prototype._init_toolbar = function() {\n",
       "    var fig = this;\n",
       "\n",
       "    var nav_element = $('<div/>')\n",
       "    nav_element.attr('style', 'width: 100%');\n",
       "    this.root.append(nav_element);\n",
       "\n",
       "    // Define a callback function for later on.\n",
       "    function toolbar_event(event) {\n",
       "        return fig.toolbar_button_onclick(event['data']);\n",
       "    }\n",
       "    function toolbar_mouse_event(event) {\n",
       "        return fig.toolbar_button_onmouseover(event['data']);\n",
       "    }\n",
       "\n",
       "    for(var toolbar_ind in mpl.toolbar_items) {\n",
       "        var name = mpl.toolbar_items[toolbar_ind][0];\n",
       "        var tooltip = mpl.toolbar_items[toolbar_ind][1];\n",
       "        var image = mpl.toolbar_items[toolbar_ind][2];\n",
       "        var method_name = mpl.toolbar_items[toolbar_ind][3];\n",
       "\n",
       "        if (!name) {\n",
       "            // put a spacer in here.\n",
       "            continue;\n",
       "        }\n",
       "        var button = $('<button/>');\n",
       "        button.addClass('ui-button ui-widget ui-state-default ui-corner-all ' +\n",
       "                        'ui-button-icon-only');\n",
       "        button.attr('role', 'button');\n",
       "        button.attr('aria-disabled', 'false');\n",
       "        button.click(method_name, toolbar_event);\n",
       "        button.mouseover(tooltip, toolbar_mouse_event);\n",
       "\n",
       "        var icon_img = $('<span/>');\n",
       "        icon_img.addClass('ui-button-icon-primary ui-icon');\n",
       "        icon_img.addClass(image);\n",
       "        icon_img.addClass('ui-corner-all');\n",
       "\n",
       "        var tooltip_span = $('<span/>');\n",
       "        tooltip_span.addClass('ui-button-text');\n",
       "        tooltip_span.html(tooltip);\n",
       "\n",
       "        button.append(icon_img);\n",
       "        button.append(tooltip_span);\n",
       "\n",
       "        nav_element.append(button);\n",
       "    }\n",
       "\n",
       "    var fmt_picker_span = $('<span/>');\n",
       "\n",
       "    var fmt_picker = $('<select/>');\n",
       "    fmt_picker.addClass('mpl-toolbar-option ui-widget ui-widget-content');\n",
       "    fmt_picker_span.append(fmt_picker);\n",
       "    nav_element.append(fmt_picker_span);\n",
       "    this.format_dropdown = fmt_picker[0];\n",
       "\n",
       "    for (var ind in mpl.extensions) {\n",
       "        var fmt = mpl.extensions[ind];\n",
       "        var option = $(\n",
       "            '<option/>', {selected: fmt === mpl.default_extension}).html(fmt);\n",
       "        fmt_picker.append(option)\n",
       "    }\n",
       "\n",
       "    // Add hover states to the ui-buttons\n",
       "    $( \".ui-button\" ).hover(\n",
       "        function() { $(this).addClass(\"ui-state-hover\");},\n",
       "        function() { $(this).removeClass(\"ui-state-hover\");}\n",
       "    );\n",
       "\n",
       "    var status_bar = $('<span class=\"mpl-message\"/>');\n",
       "    nav_element.append(status_bar);\n",
       "    this.message = status_bar[0];\n",
       "}\n",
       "\n",
       "mpl.figure.prototype.request_resize = function(x_pixels, y_pixels) {\n",
       "    // Request matplotlib to resize the figure. Matplotlib will then trigger a resize in the client,\n",
       "    // which will in turn request a refresh of the image.\n",
       "    this.send_message('resize', {'width': x_pixels, 'height': y_pixels});\n",
       "}\n",
       "\n",
       "mpl.figure.prototype.send_message = function(type, properties) {\n",
       "    properties['type'] = type;\n",
       "    properties['figure_id'] = this.id;\n",
       "    this.ws.send(JSON.stringify(properties));\n",
       "}\n",
       "\n",
       "mpl.figure.prototype.send_draw_message = function() {\n",
       "    if (!this.waiting) {\n",
       "        this.waiting = true;\n",
       "        this.ws.send(JSON.stringify({type: \"draw\", figure_id: this.id}));\n",
       "    }\n",
       "}\n",
       "\n",
       "\n",
       "mpl.figure.prototype.handle_save = function(fig, msg) {\n",
       "    var format_dropdown = fig.format_dropdown;\n",
       "    var format = format_dropdown.options[format_dropdown.selectedIndex].value;\n",
       "    fig.ondownload(fig, format);\n",
       "}\n",
       "\n",
       "\n",
       "mpl.figure.prototype.handle_resize = function(fig, msg) {\n",
       "    var size = msg['size'];\n",
       "    if (size[0] != fig.canvas.width || size[1] != fig.canvas.height) {\n",
       "        fig._resize_canvas(size[0], size[1]);\n",
       "        fig.send_message(\"refresh\", {});\n",
       "    };\n",
       "}\n",
       "\n",
       "mpl.figure.prototype.handle_rubberband = function(fig, msg) {\n",
       "    var x0 = msg['x0'] / mpl.ratio;\n",
       "    var y0 = (fig.canvas.height - msg['y0']) / mpl.ratio;\n",
       "    var x1 = msg['x1'] / mpl.ratio;\n",
       "    var y1 = (fig.canvas.height - msg['y1']) / mpl.ratio;\n",
       "    x0 = Math.floor(x0) + 0.5;\n",
       "    y0 = Math.floor(y0) + 0.5;\n",
       "    x1 = Math.floor(x1) + 0.5;\n",
       "    y1 = Math.floor(y1) + 0.5;\n",
       "    var min_x = Math.min(x0, x1);\n",
       "    var min_y = Math.min(y0, y1);\n",
       "    var width = Math.abs(x1 - x0);\n",
       "    var height = Math.abs(y1 - y0);\n",
       "\n",
       "    fig.rubberband_context.clearRect(\n",
       "        0, 0, fig.canvas.width, fig.canvas.height);\n",
       "\n",
       "    fig.rubberband_context.strokeRect(min_x, min_y, width, height);\n",
       "}\n",
       "\n",
       "mpl.figure.prototype.handle_figure_label = function(fig, msg) {\n",
       "    // Updates the figure title.\n",
       "    fig.header.textContent = msg['label'];\n",
       "}\n",
       "\n",
       "mpl.figure.prototype.handle_cursor = function(fig, msg) {\n",
       "    var cursor = msg['cursor'];\n",
       "    switch(cursor)\n",
       "    {\n",
       "    case 0:\n",
       "        cursor = 'pointer';\n",
       "        break;\n",
       "    case 1:\n",
       "        cursor = 'default';\n",
       "        break;\n",
       "    case 2:\n",
       "        cursor = 'crosshair';\n",
       "        break;\n",
       "    case 3:\n",
       "        cursor = 'move';\n",
       "        break;\n",
       "    }\n",
       "    fig.rubberband_canvas.style.cursor = cursor;\n",
       "}\n",
       "\n",
       "mpl.figure.prototype.handle_message = function(fig, msg) {\n",
       "    fig.message.textContent = msg['message'];\n",
       "}\n",
       "\n",
       "mpl.figure.prototype.handle_draw = function(fig, msg) {\n",
       "    // Request the server to send over a new figure.\n",
       "    fig.send_draw_message();\n",
       "}\n",
       "\n",
       "mpl.figure.prototype.handle_image_mode = function(fig, msg) {\n",
       "    fig.image_mode = msg['mode'];\n",
       "}\n",
       "\n",
       "mpl.figure.prototype.updated_canvas_event = function() {\n",
       "    // Called whenever the canvas gets updated.\n",
       "    this.send_message(\"ack\", {});\n",
       "}\n",
       "\n",
       "// A function to construct a web socket function for onmessage handling.\n",
       "// Called in the figure constructor.\n",
       "mpl.figure.prototype._make_on_message_function = function(fig) {\n",
       "    return function socket_on_message(evt) {\n",
       "        if (evt.data instanceof Blob) {\n",
       "            /* FIXME: We get \"Resource interpreted as Image but\n",
       "             * transferred with MIME type text/plain:\" errors on\n",
       "             * Chrome.  But how to set the MIME type?  It doesn't seem\n",
       "             * to be part of the websocket stream */\n",
       "            evt.data.type = \"image/png\";\n",
       "\n",
       "            /* Free the memory for the previous frames */\n",
       "            if (fig.imageObj.src) {\n",
       "                (window.URL || window.webkitURL).revokeObjectURL(\n",
       "                    fig.imageObj.src);\n",
       "            }\n",
       "\n",
       "            fig.imageObj.src = (window.URL || window.webkitURL).createObjectURL(\n",
       "                evt.data);\n",
       "            fig.updated_canvas_event();\n",
       "            fig.waiting = false;\n",
       "            return;\n",
       "        }\n",
       "        else if (typeof evt.data === 'string' && evt.data.slice(0, 21) == \"data:image/png;base64\") {\n",
       "            fig.imageObj.src = evt.data;\n",
       "            fig.updated_canvas_event();\n",
       "            fig.waiting = false;\n",
       "            return;\n",
       "        }\n",
       "\n",
       "        var msg = JSON.parse(evt.data);\n",
       "        var msg_type = msg['type'];\n",
       "\n",
       "        // Call the  \"handle_{type}\" callback, which takes\n",
       "        // the figure and JSON message as its only arguments.\n",
       "        try {\n",
       "            var callback = fig[\"handle_\" + msg_type];\n",
       "        } catch (e) {\n",
       "            console.log(\"No handler for the '\" + msg_type + \"' message type: \", msg);\n",
       "            return;\n",
       "        }\n",
       "\n",
       "        if (callback) {\n",
       "            try {\n",
       "                // console.log(\"Handling '\" + msg_type + \"' message: \", msg);\n",
       "                callback(fig, msg);\n",
       "            } catch (e) {\n",
       "                console.log(\"Exception inside the 'handler_\" + msg_type + \"' callback:\", e, e.stack, msg);\n",
       "            }\n",
       "        }\n",
       "    };\n",
       "}\n",
       "\n",
       "// from http://stackoverflow.com/questions/1114465/getting-mouse-location-in-canvas\n",
       "mpl.findpos = function(e) {\n",
       "    //this section is from http://www.quirksmode.org/js/events_properties.html\n",
       "    var targ;\n",
       "    if (!e)\n",
       "        e = window.event;\n",
       "    if (e.target)\n",
       "        targ = e.target;\n",
       "    else if (e.srcElement)\n",
       "        targ = e.srcElement;\n",
       "    if (targ.nodeType == 3) // defeat Safari bug\n",
       "        targ = targ.parentNode;\n",
       "\n",
       "    // jQuery normalizes the pageX and pageY\n",
       "    // pageX,Y are the mouse positions relative to the document\n",
       "    // offset() returns the position of the element relative to the document\n",
       "    var x = e.pageX - $(targ).offset().left;\n",
       "    var y = e.pageY - $(targ).offset().top;\n",
       "\n",
       "    return {\"x\": x, \"y\": y};\n",
       "};\n",
       "\n",
       "/*\n",
       " * return a copy of an object with only non-object keys\n",
       " * we need this to avoid circular references\n",
       " * http://stackoverflow.com/a/24161582/3208463\n",
       " */\n",
       "function simpleKeys (original) {\n",
       "  return Object.keys(original).reduce(function (obj, key) {\n",
       "    if (typeof original[key] !== 'object')\n",
       "        obj[key] = original[key]\n",
       "    return obj;\n",
       "  }, {});\n",
       "}\n",
       "\n",
       "mpl.figure.prototype.mouse_event = function(event, name) {\n",
       "    var canvas_pos = mpl.findpos(event)\n",
       "\n",
       "    if (name === 'button_press')\n",
       "    {\n",
       "        this.canvas.focus();\n",
       "        this.canvas_div.focus();\n",
       "    }\n",
       "\n",
       "    var x = canvas_pos.x * mpl.ratio;\n",
       "    var y = canvas_pos.y * mpl.ratio;\n",
       "\n",
       "    this.send_message(name, {x: x, y: y, button: event.button,\n",
       "                             step: event.step,\n",
       "                             guiEvent: simpleKeys(event)});\n",
       "\n",
       "    /* This prevents the web browser from automatically changing to\n",
       "     * the text insertion cursor when the button is pressed.  We want\n",
       "     * to control all of the cursor setting manually through the\n",
       "     * 'cursor' event from matplotlib */\n",
       "    event.preventDefault();\n",
       "    return false;\n",
       "}\n",
       "\n",
       "mpl.figure.prototype._key_event_extra = function(event, name) {\n",
       "    // Handle any extra behaviour associated with a key event\n",
       "}\n",
       "\n",
       "mpl.figure.prototype.key_event = function(event, name) {\n",
       "\n",
       "    // Prevent repeat events\n",
       "    if (name == 'key_press')\n",
       "    {\n",
       "        if (event.which === this._key)\n",
       "            return;\n",
       "        else\n",
       "            this._key = event.which;\n",
       "    }\n",
       "    if (name == 'key_release')\n",
       "        this._key = null;\n",
       "\n",
       "    var value = '';\n",
       "    if (event.ctrlKey && event.which != 17)\n",
       "        value += \"ctrl+\";\n",
       "    if (event.altKey && event.which != 18)\n",
       "        value += \"alt+\";\n",
       "    if (event.shiftKey && event.which != 16)\n",
       "        value += \"shift+\";\n",
       "\n",
       "    value += 'k';\n",
       "    value += event.which.toString();\n",
       "\n",
       "    this._key_event_extra(event, name);\n",
       "\n",
       "    this.send_message(name, {key: value,\n",
       "                             guiEvent: simpleKeys(event)});\n",
       "    return false;\n",
       "}\n",
       "\n",
       "mpl.figure.prototype.toolbar_button_onclick = function(name) {\n",
       "    if (name == 'download') {\n",
       "        this.handle_save(this, null);\n",
       "    } else {\n",
       "        this.send_message(\"toolbar_button\", {name: name});\n",
       "    }\n",
       "};\n",
       "\n",
       "mpl.figure.prototype.toolbar_button_onmouseover = function(tooltip) {\n",
       "    this.message.textContent = tooltip;\n",
       "};\n",
       "mpl.toolbar_items = [[\"Home\", \"Reset original view\", \"fa fa-home icon-home\", \"home\"], [\"Back\", \"Back to previous view\", \"fa fa-arrow-left icon-arrow-left\", \"back\"], [\"Forward\", \"Forward to next view\", \"fa fa-arrow-right icon-arrow-right\", \"forward\"], [\"\", \"\", \"\", \"\"], [\"Pan\", \"Pan axes with left mouse, zoom with right\", \"fa fa-arrows icon-move\", \"pan\"], [\"Zoom\", \"Zoom to rectangle\", \"fa fa-square-o icon-check-empty\", \"zoom\"], [\"\", \"\", \"\", \"\"], [\"Download\", \"Download plot\", \"fa fa-floppy-o icon-save\", \"download\"]];\n",
       "\n",
       "mpl.extensions = [\"eps\", \"jpeg\", \"pdf\", \"png\", \"ps\", \"raw\", \"svg\", \"tif\"];\n",
       "\n",
       "mpl.default_extension = \"png\";var comm_websocket_adapter = function(comm) {\n",
       "    // Create a \"websocket\"-like object which calls the given IPython comm\n",
       "    // object with the appropriate methods. Currently this is a non binary\n",
       "    // socket, so there is still some room for performance tuning.\n",
       "    var ws = {};\n",
       "\n",
       "    ws.close = function() {\n",
       "        comm.close()\n",
       "    };\n",
       "    ws.send = function(m) {\n",
       "        //console.log('sending', m);\n",
       "        comm.send(m);\n",
       "    };\n",
       "    // Register the callback with on_msg.\n",
       "    comm.on_msg(function(msg) {\n",
       "        //console.log('receiving', msg['content']['data'], msg);\n",
       "        // Pass the mpl event to the overridden (by mpl) onmessage function.\n",
       "        ws.onmessage(msg['content']['data'])\n",
       "    });\n",
       "    return ws;\n",
       "}\n",
       "\n",
       "mpl.mpl_figure_comm = function(comm, msg) {\n",
       "    // This is the function which gets called when the mpl process\n",
       "    // starts-up an IPython Comm through the \"matplotlib\" channel.\n",
       "\n",
       "    var id = msg.content.data.id;\n",
       "    // Get hold of the div created by the display call when the Comm\n",
       "    // socket was opened in Python.\n",
       "    var element = $(\"#\" + id);\n",
       "    var ws_proxy = comm_websocket_adapter(comm)\n",
       "\n",
       "    function ondownload(figure, format) {\n",
       "        window.open(figure.imageObj.src);\n",
       "    }\n",
       "\n",
       "    var fig = new mpl.figure(id, ws_proxy,\n",
       "                           ondownload,\n",
       "                           element.get(0));\n",
       "\n",
       "    // Call onopen now - mpl needs it, as it is assuming we've passed it a real\n",
       "    // web socket which is closed, not our websocket->open comm proxy.\n",
       "    ws_proxy.onopen();\n",
       "\n",
       "    fig.parent_element = element.get(0);\n",
       "    fig.cell_info = mpl.find_output_cell(\"<div id='\" + id + \"'></div>\");\n",
       "    if (!fig.cell_info) {\n",
       "        console.error(\"Failed to find cell for figure\", id, fig);\n",
       "        return;\n",
       "    }\n",
       "\n",
       "    var output_index = fig.cell_info[2]\n",
       "    var cell = fig.cell_info[0];\n",
       "\n",
       "};\n",
       "\n",
       "mpl.figure.prototype.handle_close = function(fig, msg) {\n",
       "    var width = fig.canvas.width/mpl.ratio\n",
       "    fig.root.unbind('remove')\n",
       "\n",
       "    // Update the output cell to use the data from the current canvas.\n",
       "    fig.push_to_output();\n",
       "    var dataURL = fig.canvas.toDataURL();\n",
       "    // Re-enable the keyboard manager in IPython - without this line, in FF,\n",
       "    // the notebook keyboard shortcuts fail.\n",
       "    IPython.keyboard_manager.enable()\n",
       "    $(fig.parent_element).html('<img src=\"' + dataURL + '\" width=\"' + width + '\">');\n",
       "    fig.close_ws(fig, msg);\n",
       "}\n",
       "\n",
       "mpl.figure.prototype.close_ws = function(fig, msg){\n",
       "    fig.send_message('closing', msg);\n",
       "    // fig.ws.close()\n",
       "}\n",
       "\n",
       "mpl.figure.prototype.push_to_output = function(remove_interactive) {\n",
       "    // Turn the data on the canvas into data in the output cell.\n",
       "    var width = this.canvas.width/mpl.ratio\n",
       "    var dataURL = this.canvas.toDataURL();\n",
       "    this.cell_info[1]['text/html'] = '<img src=\"' + dataURL + '\" width=\"' + width + '\">';\n",
       "}\n",
       "\n",
       "mpl.figure.prototype.updated_canvas_event = function() {\n",
       "    // Tell IPython that the notebook contents must change.\n",
       "    IPython.notebook.set_dirty(true);\n",
       "    this.send_message(\"ack\", {});\n",
       "    var fig = this;\n",
       "    // Wait a second, then push the new image to the DOM so\n",
       "    // that it is saved nicely (might be nice to debounce this).\n",
       "    setTimeout(function () { fig.push_to_output() }, 1000);\n",
       "}\n",
       "\n",
       "mpl.figure.prototype._init_toolbar = function() {\n",
       "    var fig = this;\n",
       "\n",
       "    var nav_element = $('<div/>')\n",
       "    nav_element.attr('style', 'width: 100%');\n",
       "    this.root.append(nav_element);\n",
       "\n",
       "    // Define a callback function for later on.\n",
       "    function toolbar_event(event) {\n",
       "        return fig.toolbar_button_onclick(event['data']);\n",
       "    }\n",
       "    function toolbar_mouse_event(event) {\n",
       "        return fig.toolbar_button_onmouseover(event['data']);\n",
       "    }\n",
       "\n",
       "    for(var toolbar_ind in mpl.toolbar_items){\n",
       "        var name = mpl.toolbar_items[toolbar_ind][0];\n",
       "        var tooltip = mpl.toolbar_items[toolbar_ind][1];\n",
       "        var image = mpl.toolbar_items[toolbar_ind][2];\n",
       "        var method_name = mpl.toolbar_items[toolbar_ind][3];\n",
       "\n",
       "        if (!name) { continue; };\n",
       "\n",
       "        var button = $('<button class=\"btn btn-default\" href=\"#\" title=\"' + name + '\"><i class=\"fa ' + image + ' fa-lg\"></i></button>');\n",
       "        button.click(method_name, toolbar_event);\n",
       "        button.mouseover(tooltip, toolbar_mouse_event);\n",
       "        nav_element.append(button);\n",
       "    }\n",
       "\n",
       "    // Add the status bar.\n",
       "    var status_bar = $('<span class=\"mpl-message\" style=\"text-align:right; float: right;\"/>');\n",
       "    nav_element.append(status_bar);\n",
       "    this.message = status_bar[0];\n",
       "\n",
       "    // Add the close button to the window.\n",
       "    var buttongrp = $('<div class=\"btn-group inline pull-right\"></div>');\n",
       "    var button = $('<button class=\"btn btn-mini btn-primary\" href=\"#\" title=\"Stop Interaction\"><i class=\"fa fa-power-off icon-remove icon-large\"></i></button>');\n",
       "    button.click(function (evt) { fig.handle_close(fig, {}); } );\n",
       "    button.mouseover('Stop Interaction', toolbar_mouse_event);\n",
       "    buttongrp.append(button);\n",
       "    var titlebar = this.root.find($('.ui-dialog-titlebar'));\n",
       "    titlebar.prepend(buttongrp);\n",
       "}\n",
       "\n",
       "mpl.figure.prototype._root_extra_style = function(el){\n",
       "    var fig = this\n",
       "    el.on(\"remove\", function(){\n",
       "\tfig.close_ws(fig, {});\n",
       "    });\n",
       "}\n",
       "\n",
       "mpl.figure.prototype._canvas_extra_style = function(el){\n",
       "    // this is important to make the div 'focusable\n",
       "    el.attr('tabindex', 0)\n",
       "    // reach out to IPython and tell the keyboard manager to turn it's self\n",
       "    // off when our div gets focus\n",
       "\n",
       "    // location in version 3\n",
       "    if (IPython.notebook.keyboard_manager) {\n",
       "        IPython.notebook.keyboard_manager.register_events(el);\n",
       "    }\n",
       "    else {\n",
       "        // location in version 2\n",
       "        IPython.keyboard_manager.register_events(el);\n",
       "    }\n",
       "\n",
       "}\n",
       "\n",
       "mpl.figure.prototype._key_event_extra = function(event, name) {\n",
       "    var manager = IPython.notebook.keyboard_manager;\n",
       "    if (!manager)\n",
       "        manager = IPython.keyboard_manager;\n",
       "\n",
       "    // Check for shift+enter\n",
       "    if (event.shiftKey && event.which == 13) {\n",
       "        this.canvas_div.blur();\n",
       "        event.shiftKey = false;\n",
       "        // Send a \"J\" for go to next cell\n",
       "        event.which = 74;\n",
       "        event.keyCode = 74;\n",
       "        manager.command_mode();\n",
       "        manager.handle_keydown(event);\n",
       "    }\n",
       "}\n",
       "\n",
       "mpl.figure.prototype.handle_save = function(fig, msg) {\n",
       "    fig.ondownload(fig, null);\n",
       "}\n",
       "\n",
       "\n",
       "mpl.find_output_cell = function(html_output) {\n",
       "    // Return the cell and output element which can be found *uniquely* in the notebook.\n",
       "    // Note - this is a bit hacky, but it is done because the \"notebook_saving.Notebook\"\n",
       "    // IPython event is triggered only after the cells have been serialised, which for\n",
       "    // our purposes (turning an active figure into a static one), is too late.\n",
       "    var cells = IPython.notebook.get_cells();\n",
       "    var ncells = cells.length;\n",
       "    for (var i=0; i<ncells; i++) {\n",
       "        var cell = cells[i];\n",
       "        if (cell.cell_type === 'code'){\n",
       "            for (var j=0; j<cell.output_area.outputs.length; j++) {\n",
       "                var data = cell.output_area.outputs[j];\n",
       "                if (data.data) {\n",
       "                    // IPython >= 3 moved mimebundle to data attribute of output\n",
       "                    data = data.data;\n",
       "                }\n",
       "                if (data['text/html'] == html_output) {\n",
       "                    return [cell, data, j];\n",
       "                }\n",
       "            }\n",
       "        }\n",
       "    }\n",
       "}\n",
       "\n",
       "// Register the function which deals with the matplotlib target/channel.\n",
       "// The kernel may be null if the page has been refreshed.\n",
       "if (IPython.notebook.kernel != null) {\n",
       "    IPython.notebook.kernel.comm_manager.register_target('matplotlib', mpl.mpl_figure_comm);\n",
       "}\n"
      ],
      "text/plain": [
       "<IPython.core.display.Javascript object>"
      ]
     },
     "metadata": {},
     "output_type": "display_data"
    },
    {
     "data": {
      "text/html": [
       "<img src=\"data:image/png;base64,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\" width=\"640\">"
      ],
      "text/plain": [
       "<IPython.core.display.HTML object>"
      ]
     },
     "metadata": {},
     "output_type": "display_data"
    }
   ],
   "source": [
    "# matplotlib config\n",
    "loss_values = []\n",
    "plt.ion()\n",
    "ax = plt.gca()\n",
    "ax.set_xlim([0, 10])\n",
    "ax.set_ylim([0, 3])\n",
    "plt.title(\"Loss over time\")\n",
    "plt.xlabel(\"Minibatch\")\n",
    "plt.ylabel(\"Loss\")\n",
    "plt.show()"
   ]
  },
  {
   "cell_type": "code",
   "execution_count": 18,
   "metadata": {
    "slideshow": {
     "slide_type": "slide"
    }
   },
   "outputs": [],
   "source": [
    "def plot(loss_values):\n",
    "    ax.set_xlim([0, len(loss_values)+10])\n",
    "    ax.plot(loss_values)\n",
    "    plt.draw()\n",
    "    try:\n",
    "       plt.pause(0.0001)\n",
    "    except: pass"
   ]
  },
  {
   "cell_type": "markdown",
   "metadata": {
    "slideshow": {
     "slide_type": "slide"
    }
   },
   "source": [
    "## Reading the training data into a list"
   ]
  },
  {
   "cell_type": "code",
   "execution_count": 19,
   "metadata": {},
   "outputs": [],
   "source": [
    "train_data = open(data_path+'.data', 'r').read().strip().split('\\n')"
   ]
  },
  {
   "cell_type": "code",
   "execution_count": 20,
   "metadata": {
    "slideshow": {
     "slide_type": "slide"
    }
   },
   "outputs": [],
   "source": [
    "def train_iter(train_data):\n",
    "        losses = [] # minibatch loss vector\n",
    "        random.shuffle(train_data) # shuffle the training data.\n",
    "\n",
    "        for line in train_data:\n",
    "            fields = line.strip().split('\\t')\n",
    "            features, label, gold_label = fields[:-1], fields[-1], tag2id(fields[-1])\n",
    "            result = forward(features)\n",
    "\n",
    "            # getting loss with respect to negative log softmax function and the gold label; and appending to the minibatch losses.\n",
    "            loss = dynet.pickneglogsoftmax(result, gold_label)\n",
    "            losses.append(loss)\n",
    "\n",
    "            if len(losses) >= minibatch_size:\n",
    "                minibatch_loss = dynet.esum(losses) / len(losses) # now we have enough loss values to get loss for minibatch\n",
    "                minibatch_loss.forward() # calling dynetnet to run forward computation for all minibatch items\n",
    "                minibatch_loss_value = minibatch_loss.value() # getting float value of the loss for current minibatch\n",
    "\n",
    "                # printing info and plotting\n",
    "                loss_values.append(minibatch_loss_value)\n",
    "                \n",
    "                if len(loss_values)%10==0: plot(loss_values)\n",
    "                                    \n",
    "                minibatch_loss.backward() # calling dynetnet to run backpropagation\n",
    "                updater.update() # calling dynet to change parameter values with respect to current backpropagation\n",
    "\n",
    "                # empty the loss vector and refresh the memory of dynetnet\n",
    "                losses = []\n",
    "                dynet.renew_cg()\n",
    "\n",
    "        dynet.renew_cg() # there are still some minibatch items in the memory but they are smaller than the minibatch size"
   ]
  },
  {
   "cell_type": "markdown",
   "metadata": {
    "slideshow": {
     "slide_type": "slide"
    }
   },
   "source": [
    "# Saving and loading network"
   ]
  },
  {
   "cell_type": "code",
   "execution_count": 21,
   "metadata": {
    "slideshow": {
     "slide_type": "fragment"
    }
   },
   "outputs": [],
   "source": [
    "def load(filename):\n",
    "    model.populate(filename)\n",
    "\n",
    "def save(filename):\n",
    "    model.save(filename)"
   ]
  },
  {
   "cell_type": "markdown",
   "metadata": {
    "slideshow": {
     "slide_type": "slide"
    }
   },
   "source": [
    "# Training epochs"
   ]
  },
  {
   "cell_type": "code",
   "execution_count": 22,
   "metadata": {
    "slideshow": {
     "slide_type": "fragment"
    }
   },
   "outputs": [
    {
     "name": "stdout",
     "output_type": "stream",
     "text": [
      "epoch 1\n",
      "epoch 2\n",
      "epoch 3\n",
      "epoch 4\n",
      "epoch 5\n",
      "epoch 6\n",
      "epoch 7\n",
      "epoch 8\n",
      "epoch 9\n",
      "epoch 10\n",
      "finished training!\n"
     ]
    }
   ],
   "source": [
    "for i in range(10):\n",
    "    print('epoch',i+1) \n",
    "    train_iter(train_data)\n",
    "    dynet.renew_cg()\n",
    "print('finished training!') "
   ]
  },
  {
   "cell_type": "markdown",
   "metadata": {
    "slideshow": {
     "slide_type": "slide"
    }
   },
   "source": [
    "# Tagging a file"
   ]
  },
  {
   "cell_type": "code",
   "execution_count": 23,
   "metadata": {},
   "outputs": [],
   "source": [
    "test_file = 'data/en.pos.dev.raw'\n",
    "writer = open(test_file+'.output.dynet', 'w')\n",
    "for sentence in open(test_file, 'r'):\n",
    "    words = sentence.strip().split()\n",
    "    tags = decode(words)\n",
    "    output = [word + '\\t' + tag for word, tag in zip(words, tags)]\n",
    "    writer.write('\\n'.join(output) + '\\n\\n')\n",
    "writer.close()"
   ]
  },
  {
   "cell_type": "code",
   "execution_count": 24,
   "metadata": {},
   "outputs": [],
   "source": [
    "def evaluate_test(w_test_file,data_file):\n",
    "    true=0\n",
    "    compare=open(data_file,'r')\n",
    "    l=[]\n",
    "    k=[]\n",
    "    for sentence1 in compare:\n",
    "        words1=sentence1.strip().split()\n",
    "        if len(words1)==2:\n",
    "            l.append(words1[1])\n",
    "    for sentence2 in open(w_test_file,'r'):\n",
    "        words2=sentence2.strip().split()\n",
    "        if len(words2)==2:\n",
    "            k.append(words2[1])\n",
    "    for i in range(len(l)):\n",
    "        if l[i]==k[i]:\n",
    "            true+=1\n",
    "    accuracy=true/len(l)\n",
    "    return accuracy\n"
   ]
  },
  {
   "cell_type": "code",
   "execution_count": 1,
   "metadata": {},
   "outputs": [
    {
     "ename": "NameError",
     "evalue": "name 'evaluate_test' is not defined",
     "output_type": "error",
     "traceback": [
      "\u001b[0;31m---------------------------------------------------------------------------\u001b[0m",
      "\u001b[0;31mNameError\u001b[0m                                 Traceback (most recent call last)",
      "\u001b[0;32m<ipython-input-1-8b8143a4c899>\u001b[0m in \u001b[0;36m<module>\u001b[0;34m\u001b[0m\n\u001b[0;32m----> 1\u001b[0;31m \u001b[0mprint\u001b[0m\u001b[0;34m(\u001b[0m\u001b[0mevaluate_test\u001b[0m\u001b[0;34m(\u001b[0m\u001b[0;34m'data/en.pos.dev.raw.output.dynet'\u001b[0m\u001b[0;34m,\u001b[0m\u001b[0;34m'data/en.pos.dev'\u001b[0m\u001b[0;34m)\u001b[0m\u001b[0;34m)\u001b[0m\u001b[0;34m\u001b[0m\u001b[0;34m\u001b[0m\u001b[0m\n\u001b[0m",
      "\u001b[0;31mNameError\u001b[0m: name 'evaluate_test' is not defined"
     ]
    }
   ],
   "source": [
    "print(evaluate_test('data/en.pos.dev.raw.output.dynet','data/en.pos.dev'))"
   ]
  },
  {
   "cell_type": "code",
   "execution_count": null,
   "metadata": {},
   "outputs": [],
   "source": []
  }
 ],
 "metadata": {
  "celltoolbar": "Slideshow",
  "kernelspec": {
   "display_name": "Python 3",
   "language": "python",
   "name": "python3"
  },
  "language_info": {
   "codemirror_mode": {
    "name": "ipython",
    "version": 3
   },
   "file_extension": ".py",
   "mimetype": "text/x-python",
   "name": "python",
   "nbconvert_exporter": "python",
   "pygments_lexer": "ipython3",
   "version": "3.6.8"
  }
 },
 "nbformat": 4,
 "nbformat_minor": 2
}
